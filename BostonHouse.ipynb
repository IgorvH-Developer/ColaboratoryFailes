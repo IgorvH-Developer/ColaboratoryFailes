{
  "nbformat": 4,
  "nbformat_minor": 0,
  "metadata": {
    "colab": {
      "name": "BostonHouse.ipynb",
      "provenance": [],
      "collapsed_sections": [],
      "toc_visible": true,
      "authorship_tag": "ABX9TyMFXumN4mngRE/3Kcth3sLd",
      "include_colab_link": true
    },
    "kernelspec": {
      "name": "python3",
      "display_name": "Python 3"
    },
    "accelerator": "GPU"
  },
  "cells": [
    {
      "cell_type": "markdown",
      "metadata": {
        "id": "view-in-github",
        "colab_type": "text"
      },
      "source": [
        "<a href=\"https://colab.research.google.com/github/IgorvH-Developer/ColaboratoryFailes/blob/main/BostonHouse.ipynb\" target=\"_parent\"><img src=\"https://colab.research.google.com/assets/colab-badge.svg\" alt=\"Open In Colab\"/></a>"
      ]
    },
    {
      "cell_type": "code",
      "metadata": {
        "id": "t-kddIogOIFh"
      },
      "source": [
        "import torch\n",
        "import random\n",
        "import numpy as np\n",
        "import matplotlib.pyplot as plt\n",
        "\n",
        "random.seed(0)\n",
        "np.random.seed(0)\n",
        "torch.manual_seed(0)\n",
        "torch.cuda.manual_seed(0)\n",
        "torch.backends.cudnn.deterministic = True\n",
        "\n",
        "from google.colab import drive\n"
      ],
      "execution_count": 140,
      "outputs": []
    },
    {
      "cell_type": "code",
      "metadata": {
        "id": "EI8ROdRTQDiZ"
      },
      "source": [
        "device = torch.device(\"cuda\")"
      ],
      "execution_count": 141,
      "outputs": []
    },
    {
      "cell_type": "code",
      "metadata": {
        "id": "XuwWrQYHP7wV",
        "outputId": "07c7af53-8bae-43d9-9ea7-4da4152b169b",
        "colab": {
          "base_uri": "https://localhost:8080/"
        }
      },
      "source": [
        "import sklearn.datasets\n",
        "boston = sklearn.datasets.load_boston()\n",
        "boston.data.shape"
      ],
      "execution_count": 142,
      "outputs": [
        {
          "output_type": "execute_result",
          "data": {
            "text/plain": [
              "(506, 13)"
            ]
          },
          "metadata": {
            "tags": []
          },
          "execution_count": 142
        }
      ]
    },
    {
      "cell_type": "code",
      "metadata": {
        "id": "-nURNVQIebcb"
      },
      "source": [
        "X_train = torch.tensor(boston.data[0:506])\n",
        "y_train = torch.tensor(boston.target[0:506])\n",
        "X_test = torch.tensor(boston.data[460:506])\n",
        "y_test = torch.tensor(boston.target[460:506])"
      ],
      "execution_count": 143,
      "outputs": []
    },
    {
      "cell_type": "code",
      "metadata": {
        "id": "34O5bc3hnszR"
      },
      "source": [
        "X_train.requires_grad_()\n",
        "y_train.requires_grad_()\n",
        "X_test.requires_grad_()\n",
        "y_test.requires_grad_()\n",
        "\n",
        "y_train = y_train.reshape(-1,1)\n",
        "y_test = y_test.reshape(-1,1);"
      ],
      "execution_count": 144,
      "outputs": []
    },
    {
      "cell_type": "code",
      "metadata": {
        "id": "g35hOkNY4pKt",
        "outputId": "f0b7754f-79b4-4a79-c09e-dfb99e657cad",
        "colab": {
          "base_uri": "https://localhost:8080/"
        }
      },
      "source": [
        "a= X_train[:,5]\n",
        "b = X_train[:,12]\n",
        "c= X_test[:,5]\n",
        "d = X_test[:,12]\n",
        "newX_train = torch.ones(a.size(0),2)\n",
        "newX_test = torch.ones(c.size(0),2)\n",
        "\n",
        "newX_train[:,0] = a\n",
        "newX_train[:,1] = b\n",
        "newX_train.requires_grad_\n",
        "newX_test[:,0] = c\n",
        "newX_test[:,1] = d\n",
        "newX_test.requires_grad_\n",
        "newX_test.size()"
      ],
      "execution_count": 145,
      "outputs": [
        {
          "output_type": "execute_result",
          "data": {
            "text/plain": [
              "torch.Size([46, 2])"
            ]
          },
          "metadata": {
            "tags": []
          },
          "execution_count": 145
        }
      ]
    },
    {
      "cell_type": "code",
      "metadata": {
        "id": "_x9CZ2T-iPQJ",
        "outputId": "779d43cd-937c-4ff8-9354-e207b83657a7",
        "colab": {
          "base_uri": "https://localhost:8080/"
        }
      },
      "source": [
        "y_test.size()"
      ],
      "execution_count": 146,
      "outputs": [
        {
          "output_type": "execute_result",
          "data": {
            "text/plain": [
              "torch.Size([46, 1])"
            ]
          },
          "metadata": {
            "tags": []
          },
          "execution_count": 146
        }
      ]
    },
    {
      "cell_type": "code",
      "metadata": {
        "id": "YDixvKoAQG0Q"
      },
      "source": [
        "class GuessPrice(torch.nn.Module):\n",
        "    def __init__(self, n_hidden_neurons):\n",
        "        super(GuessPrice, self).__init__()\n",
        "        \n",
        "        self.fc1 = torch.nn.Linear(13, n_hidden_neurons)\n",
        "        self.activ1 = torch.nn.ELU()\n",
        "        self.fc2 = torch.nn.Linear(n_hidden_neurons, n_hidden_neurons)\n",
        "        self.activ2 = torch.nn.ELU()\n",
        "        self.fc3 = torch.nn.Linear(n_hidden_neurons, n_hidden_neurons)\n",
        "        self.activ3 = torch.nn.ELU()\n",
        "        self.fc4 = torch.nn.Linear(n_hidden_neurons, n_hidden_neurons)\n",
        "        self.activ4 = torch.nn.ELU()\n",
        "        self.fc5 = torch.nn.Linear(n_hidden_neurons, 1)\n",
        "        \n",
        "    def forward(self,x):\n",
        "        x = self.fc1(x)\n",
        "        x = self.activ1(x)\n",
        "        x = self.fc2(x)\n",
        "        x = self.activ2(x)\n",
        "        x = self.fc3(x)\n",
        "        x = self.activ3(x)\n",
        "        x = self.fc5(x)\n",
        "        return x\n",
        "\n",
        "    \n",
        "bostonPrice_net = GuessPrice(5)"
      ],
      "execution_count": 163,
      "outputs": []
    },
    {
      "cell_type": "code",
      "metadata": {
        "id": "Q0MEUgb4QI0m"
      },
      "source": [
        "def loss(preds, target):\n",
        "    square = ((preds - target) ** 2).mean()\n",
        "    return square\n",
        "\n",
        "optimizer = torch.optim.Adam (bostonPrice_net.parameters(), \n",
        "                             lr=0.0005)\n",
        "# сначала скорость обучения 0.005 когда дошло до функ.ош. в 12 поставил значение 0.001"
      ],
      "execution_count": 173,
      "outputs": []
    },
    {
      "cell_type": "code",
      "metadata": {
        "id": "783P7h9kQMQZ",
        "outputId": "3b99984c-c4f9-4d6c-fa53-9dcbe828851a",
        "colab": {
          "base_uri": "https://localhost:8080/"
        }
      },
      "source": [
        "batch_size = 506\n",
        "loss_history = [[0,0] for i in range(50000)]\n",
        "\n",
        "for epoch in range(50000):\n",
        "    order = np.random.permutation(len(X_train))\n",
        "    for start_index in range(0, len(X_train), batch_size):\n",
        "        optimizer.zero_grad()\n",
        "        \n",
        "        batch_indexes = order[start_index:start_index+batch_size]\n",
        "        \n",
        "        x_batch = X_train[batch_indexes]\n",
        "        y_batch = y_train[batch_indexes]\n",
        "        \n",
        "        preds = bostonPrice_net.forward(x_batch.float()) \n",
        "        \n",
        "        loss_value = loss(preds, y_batch)\n",
        "        #print(loss_value)\n",
        "        loss_value.backward()\n",
        "\n",
        "        loss_history[epoch][0] = epoch\n",
        "        loss_history[epoch][1] = loss_value.data.numpy().tolist()\n",
        "        \n",
        "        optimizer.step()\n",
        "        \n",
        "    if epoch % 100 == 0:\n",
        "        test_preds = bostonPrice_net.forward(X_train.float())\n",
        "        #print(((test_preds - y_train) ** 2).mean())\n",
        "        print(loss( test_preds ,y_train))"
      ],
      "execution_count": 174,
      "outputs": [
        {
          "output_type": "stream",
          "text": [
            "tensor(10.5459, dtype=torch.float64, grad_fn=<MeanBackward0>)\n",
            "tensor(7.6829, dtype=torch.float64, grad_fn=<MeanBackward0>)\n",
            "tensor(7.6759, dtype=torch.float64, grad_fn=<MeanBackward0>)\n",
            "tensor(7.6758, dtype=torch.float64, grad_fn=<MeanBackward0>)\n",
            "tensor(7.6757, dtype=torch.float64, grad_fn=<MeanBackward0>)\n",
            "tensor(7.6755, dtype=torch.float64, grad_fn=<MeanBackward0>)\n",
            "tensor(7.6754, dtype=torch.float64, grad_fn=<MeanBackward0>)\n",
            "tensor(7.6752, dtype=torch.float64, grad_fn=<MeanBackward0>)\n",
            "tensor(7.6750, dtype=torch.float64, grad_fn=<MeanBackward0>)\n",
            "tensor(7.6748, dtype=torch.float64, grad_fn=<MeanBackward0>)\n",
            "tensor(7.6745, dtype=torch.float64, grad_fn=<MeanBackward0>)\n",
            "tensor(7.6743, dtype=torch.float64, grad_fn=<MeanBackward0>)\n",
            "tensor(7.6740, dtype=torch.float64, grad_fn=<MeanBackward0>)\n",
            "tensor(7.6737, dtype=torch.float64, grad_fn=<MeanBackward0>)\n",
            "tensor(7.6734, dtype=torch.float64, grad_fn=<MeanBackward0>)\n",
            "tensor(7.6731, dtype=torch.float64, grad_fn=<MeanBackward0>)\n",
            "tensor(7.6727, dtype=torch.float64, grad_fn=<MeanBackward0>)\n",
            "tensor(7.6724, dtype=torch.float64, grad_fn=<MeanBackward0>)\n",
            "tensor(7.6879, dtype=torch.float64, grad_fn=<MeanBackward0>)\n",
            "tensor(7.6717, dtype=torch.float64, grad_fn=<MeanBackward0>)\n",
            "tensor(7.6714, dtype=torch.float64, grad_fn=<MeanBackward0>)\n",
            "tensor(7.6711, dtype=torch.float64, grad_fn=<MeanBackward0>)\n",
            "tensor(7.6708, dtype=torch.float64, grad_fn=<MeanBackward0>)\n",
            "tensor(7.6707, dtype=torch.float64, grad_fn=<MeanBackward0>)\n",
            "tensor(7.6701, dtype=torch.float64, grad_fn=<MeanBackward0>)\n",
            "tensor(7.6698, dtype=torch.float64, grad_fn=<MeanBackward0>)\n",
            "tensor(7.6836, dtype=torch.float64, grad_fn=<MeanBackward0>)\n",
            "tensor(7.6692, dtype=torch.float64, grad_fn=<MeanBackward0>)\n",
            "tensor(7.6689, dtype=torch.float64, grad_fn=<MeanBackward0>)\n",
            "tensor(7.6686, dtype=torch.float64, grad_fn=<MeanBackward0>)\n",
            "tensor(7.6682, dtype=torch.float64, grad_fn=<MeanBackward0>)\n",
            "tensor(7.6759, dtype=torch.float64, grad_fn=<MeanBackward0>)\n",
            "tensor(7.6679, dtype=torch.float64, grad_fn=<MeanBackward0>)\n",
            "tensor(7.6674, dtype=torch.float64, grad_fn=<MeanBackward0>)\n",
            "tensor(7.6671, dtype=torch.float64, grad_fn=<MeanBackward0>)\n",
            "tensor(7.6667, dtype=torch.float64, grad_fn=<MeanBackward0>)\n",
            "tensor(7.6692, dtype=torch.float64, grad_fn=<MeanBackward0>)\n",
            "tensor(7.6686, dtype=torch.float64, grad_fn=<MeanBackward0>)\n",
            "tensor(7.6659, dtype=torch.float64, grad_fn=<MeanBackward0>)\n",
            "tensor(7.6656, dtype=torch.float64, grad_fn=<MeanBackward0>)\n",
            "tensor(7.6653, dtype=torch.float64, grad_fn=<MeanBackward0>)\n",
            "tensor(7.6693, dtype=torch.float64, grad_fn=<MeanBackward0>)\n",
            "tensor(7.6753, dtype=torch.float64, grad_fn=<MeanBackward0>)\n",
            "tensor(7.6644, dtype=torch.float64, grad_fn=<MeanBackward0>)\n",
            "tensor(7.6641, dtype=torch.float64, grad_fn=<MeanBackward0>)\n",
            "tensor(7.6639, dtype=torch.float64, grad_fn=<MeanBackward0>)\n",
            "tensor(7.6636, dtype=torch.float64, grad_fn=<MeanBackward0>)\n",
            "tensor(7.6799, dtype=torch.float64, grad_fn=<MeanBackward0>)\n",
            "tensor(7.6630, dtype=torch.float64, grad_fn=<MeanBackward0>)\n",
            "tensor(7.6627, dtype=torch.float64, grad_fn=<MeanBackward0>)\n",
            "tensor(7.6624, dtype=torch.float64, grad_fn=<MeanBackward0>)\n",
            "tensor(7.6809, dtype=torch.float64, grad_fn=<MeanBackward0>)\n",
            "tensor(7.6619, dtype=torch.float64, grad_fn=<MeanBackward0>)\n",
            "tensor(7.6616, dtype=torch.float64, grad_fn=<MeanBackward0>)\n",
            "tensor(7.6613, dtype=torch.float64, grad_fn=<MeanBackward0>)\n",
            "tensor(7.6662, dtype=torch.float64, grad_fn=<MeanBackward0>)\n",
            "tensor(7.6607, dtype=torch.float64, grad_fn=<MeanBackward0>)\n",
            "tensor(7.6604, dtype=torch.float64, grad_fn=<MeanBackward0>)\n",
            "tensor(7.6638, dtype=torch.float64, grad_fn=<MeanBackward0>)\n",
            "tensor(7.6599, dtype=torch.float64, grad_fn=<MeanBackward0>)\n",
            "tensor(7.6596, dtype=torch.float64, grad_fn=<MeanBackward0>)\n",
            "tensor(7.6594, dtype=torch.float64, grad_fn=<MeanBackward0>)\n",
            "tensor(7.6591, dtype=torch.float64, grad_fn=<MeanBackward0>)\n",
            "tensor(7.6588, dtype=torch.float64, grad_fn=<MeanBackward0>)\n",
            "tensor(7.6949, dtype=torch.float64, grad_fn=<MeanBackward0>)\n",
            "tensor(7.6583, dtype=torch.float64, grad_fn=<MeanBackward0>)\n",
            "tensor(7.6580, dtype=torch.float64, grad_fn=<MeanBackward0>)\n",
            "tensor(7.6578, dtype=torch.float64, grad_fn=<MeanBackward0>)\n",
            "tensor(7.6575, dtype=torch.float64, grad_fn=<MeanBackward0>)\n",
            "tensor(7.6634, dtype=torch.float64, grad_fn=<MeanBackward0>)\n",
            "tensor(7.6570, dtype=torch.float64, grad_fn=<MeanBackward0>)\n",
            "tensor(7.6567, dtype=torch.float64, grad_fn=<MeanBackward0>)\n",
            "tensor(7.6564, dtype=torch.float64, grad_fn=<MeanBackward0>)\n",
            "tensor(7.6575, dtype=torch.float64, grad_fn=<MeanBackward0>)\n",
            "tensor(7.6593, dtype=torch.float64, grad_fn=<MeanBackward0>)\n",
            "tensor(7.6557, dtype=torch.float64, grad_fn=<MeanBackward0>)\n",
            "tensor(7.6554, dtype=torch.float64, grad_fn=<MeanBackward0>)\n",
            "tensor(7.6551, dtype=torch.float64, grad_fn=<MeanBackward0>)\n",
            "tensor(7.6549, dtype=torch.float64, grad_fn=<MeanBackward0>)\n",
            "tensor(7.6592, dtype=torch.float64, grad_fn=<MeanBackward0>)\n",
            "tensor(7.6544, dtype=torch.float64, grad_fn=<MeanBackward0>)\n",
            "tensor(7.6542, dtype=torch.float64, grad_fn=<MeanBackward0>)\n",
            "tensor(7.6539, dtype=torch.float64, grad_fn=<MeanBackward0>)\n",
            "tensor(7.6536, dtype=torch.float64, grad_fn=<MeanBackward0>)\n",
            "tensor(7.6575, dtype=torch.float64, grad_fn=<MeanBackward0>)\n",
            "tensor(7.6835, dtype=torch.float64, grad_fn=<MeanBackward0>)\n",
            "tensor(7.6529, dtype=torch.float64, grad_fn=<MeanBackward0>)\n",
            "tensor(7.6526, dtype=torch.float64, grad_fn=<MeanBackward0>)\n",
            "tensor(7.6524, dtype=torch.float64, grad_fn=<MeanBackward0>)\n",
            "tensor(7.6521, dtype=torch.float64, grad_fn=<MeanBackward0>)\n",
            "tensor(7.6738, dtype=torch.float64, grad_fn=<MeanBackward0>)\n",
            "tensor(7.6529, dtype=torch.float64, grad_fn=<MeanBackward0>)\n",
            "tensor(7.6514, dtype=torch.float64, grad_fn=<MeanBackward0>)\n",
            "tensor(7.6511, dtype=torch.float64, grad_fn=<MeanBackward0>)\n",
            "tensor(7.6509, dtype=torch.float64, grad_fn=<MeanBackward0>)\n",
            "tensor(7.6533, dtype=torch.float64, grad_fn=<MeanBackward0>)\n",
            "tensor(7.6559, dtype=torch.float64, grad_fn=<MeanBackward0>)\n",
            "tensor(7.6501, dtype=torch.float64, grad_fn=<MeanBackward0>)\n",
            "tensor(7.6499, dtype=torch.float64, grad_fn=<MeanBackward0>)\n",
            "tensor(7.6496, dtype=torch.float64, grad_fn=<MeanBackward0>)\n",
            "tensor(7.6771, dtype=torch.float64, grad_fn=<MeanBackward0>)\n",
            "tensor(7.6491, dtype=torch.float64, grad_fn=<MeanBackward0>)\n",
            "tensor(7.6489, dtype=torch.float64, grad_fn=<MeanBackward0>)\n",
            "tensor(7.6486, dtype=torch.float64, grad_fn=<MeanBackward0>)\n",
            "tensor(7.6556, dtype=torch.float64, grad_fn=<MeanBackward0>)\n",
            "tensor(7.6481, dtype=torch.float64, grad_fn=<MeanBackward0>)\n",
            "tensor(7.6478, dtype=torch.float64, grad_fn=<MeanBackward0>)\n",
            "tensor(7.6616, dtype=torch.float64, grad_fn=<MeanBackward0>)\n",
            "tensor(7.6473, dtype=torch.float64, grad_fn=<MeanBackward0>)\n",
            "tensor(7.6471, dtype=torch.float64, grad_fn=<MeanBackward0>)\n",
            "tensor(7.6469, dtype=torch.float64, grad_fn=<MeanBackward0>)\n",
            "tensor(7.6466, dtype=torch.float64, grad_fn=<MeanBackward0>)\n",
            "tensor(7.6473, dtype=torch.float64, grad_fn=<MeanBackward0>)\n",
            "tensor(7.6738, dtype=torch.float64, grad_fn=<MeanBackward0>)\n",
            "tensor(7.6459, dtype=torch.float64, grad_fn=<MeanBackward0>)\n",
            "tensor(7.6456, dtype=torch.float64, grad_fn=<MeanBackward0>)\n",
            "tensor(7.6454, dtype=torch.float64, grad_fn=<MeanBackward0>)\n",
            "tensor(7.6451, dtype=torch.float64, grad_fn=<MeanBackward0>)\n",
            "tensor(7.7197, dtype=torch.float64, grad_fn=<MeanBackward0>)\n",
            "tensor(7.6447, dtype=torch.float64, grad_fn=<MeanBackward0>)\n",
            "tensor(7.6444, dtype=torch.float64, grad_fn=<MeanBackward0>)\n",
            "tensor(7.6441, dtype=torch.float64, grad_fn=<MeanBackward0>)\n",
            "tensor(7.6439, dtype=torch.float64, grad_fn=<MeanBackward0>)\n",
            "tensor(7.6818, dtype=torch.float64, grad_fn=<MeanBackward0>)\n",
            "tensor(7.6434, dtype=torch.float64, grad_fn=<MeanBackward0>)\n",
            "tensor(7.6431, dtype=torch.float64, grad_fn=<MeanBackward0>)\n",
            "tensor(7.6429, dtype=torch.float64, grad_fn=<MeanBackward0>)\n",
            "tensor(7.6426, dtype=torch.float64, grad_fn=<MeanBackward0>)\n",
            "tensor(7.6467, dtype=torch.float64, grad_fn=<MeanBackward0>)\n",
            "tensor(7.6431, dtype=torch.float64, grad_fn=<MeanBackward0>)\n",
            "tensor(7.6419, dtype=torch.float64, grad_fn=<MeanBackward0>)\n",
            "tensor(7.6416, dtype=torch.float64, grad_fn=<MeanBackward0>)\n",
            "tensor(7.6413, dtype=torch.float64, grad_fn=<MeanBackward0>)\n",
            "tensor(7.6411, dtype=torch.float64, grad_fn=<MeanBackward0>)\n",
            "tensor(7.6513, dtype=torch.float64, grad_fn=<MeanBackward0>)\n",
            "tensor(7.6415, dtype=torch.float64, grad_fn=<MeanBackward0>)\n",
            "tensor(7.6402, dtype=torch.float64, grad_fn=<MeanBackward0>)\n",
            "tensor(7.6400, dtype=torch.float64, grad_fn=<MeanBackward0>)\n",
            "tensor(7.6401, dtype=torch.float64, grad_fn=<MeanBackward0>)\n",
            "tensor(7.6396, dtype=torch.float64, grad_fn=<MeanBackward0>)\n",
            "tensor(7.6391, dtype=torch.float64, grad_fn=<MeanBackward0>)\n",
            "tensor(7.6388, dtype=torch.float64, grad_fn=<MeanBackward0>)\n",
            "tensor(7.6385, dtype=torch.float64, grad_fn=<MeanBackward0>)\n",
            "tensor(7.6395, dtype=torch.float64, grad_fn=<MeanBackward0>)\n",
            "tensor(7.6413, dtype=torch.float64, grad_fn=<MeanBackward0>)\n",
            "tensor(7.6376, dtype=torch.float64, grad_fn=<MeanBackward0>)\n",
            "tensor(7.6373, dtype=torch.float64, grad_fn=<MeanBackward0>)\n",
            "tensor(7.6370, dtype=torch.float64, grad_fn=<MeanBackward0>)\n",
            "tensor(7.6367, dtype=torch.float64, grad_fn=<MeanBackward0>)\n",
            "tensor(7.6367, dtype=torch.float64, grad_fn=<MeanBackward0>)\n",
            "tensor(7.6820, dtype=torch.float64, grad_fn=<MeanBackward0>)\n",
            "tensor(7.6358, dtype=torch.float64, grad_fn=<MeanBackward0>)\n",
            "tensor(7.6354, dtype=torch.float64, grad_fn=<MeanBackward0>)\n",
            "tensor(7.6351, dtype=torch.float64, grad_fn=<MeanBackward0>)\n",
            "tensor(7.6347, dtype=torch.float64, grad_fn=<MeanBackward0>)\n",
            "tensor(7.6363, dtype=torch.float64, grad_fn=<MeanBackward0>)\n",
            "tensor(7.6575, dtype=torch.float64, grad_fn=<MeanBackward0>)\n",
            "tensor(7.6337, dtype=torch.float64, grad_fn=<MeanBackward0>)\n",
            "tensor(7.6333, dtype=torch.float64, grad_fn=<MeanBackward0>)\n",
            "tensor(7.6330, dtype=torch.float64, grad_fn=<MeanBackward0>)\n",
            "tensor(7.6421, dtype=torch.float64, grad_fn=<MeanBackward0>)\n",
            "tensor(7.6326, dtype=torch.float64, grad_fn=<MeanBackward0>)\n",
            "tensor(7.6319, dtype=torch.float64, grad_fn=<MeanBackward0>)\n",
            "tensor(7.6315, dtype=torch.float64, grad_fn=<MeanBackward0>)\n",
            "tensor(7.6312, dtype=torch.float64, grad_fn=<MeanBackward0>)\n",
            "tensor(7.6611, dtype=torch.float64, grad_fn=<MeanBackward0>)\n",
            "tensor(7.6307, dtype=torch.float64, grad_fn=<MeanBackward0>)\n",
            "tensor(7.6301, dtype=torch.float64, grad_fn=<MeanBackward0>)\n",
            "tensor(7.6298, dtype=torch.float64, grad_fn=<MeanBackward0>)\n",
            "tensor(7.6294, dtype=torch.float64, grad_fn=<MeanBackward0>)\n",
            "tensor(7.6430, dtype=torch.float64, grad_fn=<MeanBackward0>)\n",
            "tensor(7.6302, dtype=torch.float64, grad_fn=<MeanBackward0>)\n",
            "tensor(7.6284, dtype=torch.float64, grad_fn=<MeanBackward0>)\n",
            "tensor(7.6280, dtype=torch.float64, grad_fn=<MeanBackward0>)\n",
            "tensor(7.6277, dtype=torch.float64, grad_fn=<MeanBackward0>)\n",
            "tensor(7.6550, dtype=torch.float64, grad_fn=<MeanBackward0>)\n",
            "tensor(7.6271, dtype=torch.float64, grad_fn=<MeanBackward0>)\n",
            "tensor(7.6267, dtype=torch.float64, grad_fn=<MeanBackward0>)\n",
            "tensor(7.6264, dtype=torch.float64, grad_fn=<MeanBackward0>)\n",
            "tensor(7.6261, dtype=torch.float64, grad_fn=<MeanBackward0>)\n",
            "tensor(7.6267, dtype=torch.float64, grad_fn=<MeanBackward0>)\n",
            "tensor(7.6397, dtype=torch.float64, grad_fn=<MeanBackward0>)\n",
            "tensor(7.6251, dtype=torch.float64, grad_fn=<MeanBackward0>)\n",
            "tensor(7.6248, dtype=torch.float64, grad_fn=<MeanBackward0>)\n",
            "tensor(7.6244, dtype=torch.float64, grad_fn=<MeanBackward0>)\n",
            "tensor(7.6241, dtype=torch.float64, grad_fn=<MeanBackward0>)\n",
            "tensor(7.6243, dtype=torch.float64, grad_fn=<MeanBackward0>)\n",
            "tensor(7.6339, dtype=torch.float64, grad_fn=<MeanBackward0>)\n",
            "tensor(7.6231, dtype=torch.float64, grad_fn=<MeanBackward0>)\n",
            "tensor(7.6228, dtype=torch.float64, grad_fn=<MeanBackward0>)\n",
            "tensor(7.6225, dtype=torch.float64, grad_fn=<MeanBackward0>)\n",
            "tensor(7.6222, dtype=torch.float64, grad_fn=<MeanBackward0>)\n",
            "tensor(7.6378, dtype=torch.float64, grad_fn=<MeanBackward0>)\n",
            "tensor(7.6216, dtype=torch.float64, grad_fn=<MeanBackward0>)\n",
            "tensor(7.6212, dtype=torch.float64, grad_fn=<MeanBackward0>)\n",
            "tensor(7.6209, dtype=torch.float64, grad_fn=<MeanBackward0>)\n",
            "tensor(7.6205, dtype=torch.float64, grad_fn=<MeanBackward0>)\n",
            "tensor(7.6239, dtype=torch.float64, grad_fn=<MeanBackward0>)\n",
            "tensor(7.6200, dtype=torch.float64, grad_fn=<MeanBackward0>)\n",
            "tensor(7.6196, dtype=torch.float64, grad_fn=<MeanBackward0>)\n",
            "tensor(7.6193, dtype=torch.float64, grad_fn=<MeanBackward0>)\n",
            "tensor(7.6189, dtype=torch.float64, grad_fn=<MeanBackward0>)\n",
            "tensor(7.6328, dtype=torch.float64, grad_fn=<MeanBackward0>)\n",
            "tensor(7.6236, dtype=torch.float64, grad_fn=<MeanBackward0>)\n",
            "tensor(7.6180, dtype=torch.float64, grad_fn=<MeanBackward0>)\n",
            "tensor(7.6177, dtype=torch.float64, grad_fn=<MeanBackward0>)\n",
            "tensor(7.6174, dtype=torch.float64, grad_fn=<MeanBackward0>)\n",
            "tensor(7.6170, dtype=torch.float64, grad_fn=<MeanBackward0>)\n",
            "tensor(7.6332, dtype=torch.float64, grad_fn=<MeanBackward0>)\n",
            "tensor(7.6164, dtype=torch.float64, grad_fn=<MeanBackward0>)\n",
            "tensor(7.6161, dtype=torch.float64, grad_fn=<MeanBackward0>)\n",
            "tensor(7.6158, dtype=torch.float64, grad_fn=<MeanBackward0>)\n",
            "tensor(7.6154, dtype=torch.float64, grad_fn=<MeanBackward0>)\n",
            "tensor(7.6516, dtype=torch.float64, grad_fn=<MeanBackward0>)\n",
            "tensor(7.6148, dtype=torch.float64, grad_fn=<MeanBackward0>)\n",
            "tensor(7.6145, dtype=torch.float64, grad_fn=<MeanBackward0>)\n",
            "tensor(7.6142, dtype=torch.float64, grad_fn=<MeanBackward0>)\n",
            "tensor(7.6157, dtype=torch.float64, grad_fn=<MeanBackward0>)\n",
            "tensor(7.6146, dtype=torch.float64, grad_fn=<MeanBackward0>)\n",
            "tensor(7.6132, dtype=torch.float64, grad_fn=<MeanBackward0>)\n",
            "tensor(7.6129, dtype=torch.float64, grad_fn=<MeanBackward0>)\n",
            "tensor(7.6126, dtype=torch.float64, grad_fn=<MeanBackward0>)\n",
            "tensor(7.6680, dtype=torch.float64, grad_fn=<MeanBackward0>)\n",
            "tensor(7.6125, dtype=torch.float64, grad_fn=<MeanBackward0>)\n",
            "tensor(7.6116, dtype=torch.float64, grad_fn=<MeanBackward0>)\n",
            "tensor(7.6113, dtype=torch.float64, grad_fn=<MeanBackward0>)\n",
            "tensor(7.6111, dtype=torch.float64, grad_fn=<MeanBackward0>)\n",
            "tensor(7.6387, dtype=torch.float64, grad_fn=<MeanBackward0>)\n",
            "tensor(7.6104, dtype=torch.float64, grad_fn=<MeanBackward0>)\n",
            "tensor(7.6101, dtype=torch.float64, grad_fn=<MeanBackward0>)\n",
            "tensor(7.6098, dtype=torch.float64, grad_fn=<MeanBackward0>)\n",
            "tensor(7.6094, dtype=torch.float64, grad_fn=<MeanBackward0>)\n",
            "tensor(7.6127, dtype=torch.float64, grad_fn=<MeanBackward0>)\n",
            "tensor(7.6402, dtype=torch.float64, grad_fn=<MeanBackward0>)\n",
            "tensor(7.6085, dtype=torch.float64, grad_fn=<MeanBackward0>)\n",
            "tensor(7.6082, dtype=torch.float64, grad_fn=<MeanBackward0>)\n",
            "tensor(7.6078, dtype=torch.float64, grad_fn=<MeanBackward0>)\n",
            "tensor(7.6120, dtype=torch.float64, grad_fn=<MeanBackward0>)\n",
            "tensor(7.6266, dtype=torch.float64, grad_fn=<MeanBackward0>)\n",
            "tensor(7.6070, dtype=torch.float64, grad_fn=<MeanBackward0>)\n",
            "tensor(7.6066, dtype=torch.float64, grad_fn=<MeanBackward0>)\n",
            "tensor(7.6063, dtype=torch.float64, grad_fn=<MeanBackward0>)\n",
            "tensor(7.6085, dtype=torch.float64, grad_fn=<MeanBackward0>)\n",
            "tensor(7.6106, dtype=torch.float64, grad_fn=<MeanBackward0>)\n",
            "tensor(7.6053, dtype=torch.float64, grad_fn=<MeanBackward0>)\n",
            "tensor(7.6050, dtype=torch.float64, grad_fn=<MeanBackward0>)\n",
            "tensor(7.6051, dtype=torch.float64, grad_fn=<MeanBackward0>)\n",
            "tensor(7.6045, dtype=torch.float64, grad_fn=<MeanBackward0>)\n",
            "tensor(7.6041, dtype=torch.float64, grad_fn=<MeanBackward0>)\n",
            "tensor(7.6037, dtype=torch.float64, grad_fn=<MeanBackward0>)\n",
            "tensor(7.6034, dtype=torch.float64, grad_fn=<MeanBackward0>)\n",
            "tensor(7.6055, dtype=torch.float64, grad_fn=<MeanBackward0>)\n",
            "tensor(7.6097, dtype=torch.float64, grad_fn=<MeanBackward0>)\n",
            "tensor(7.6029, dtype=torch.float64, grad_fn=<MeanBackward0>)\n",
            "tensor(7.6022, dtype=torch.float64, grad_fn=<MeanBackward0>)\n",
            "tensor(7.6018, dtype=torch.float64, grad_fn=<MeanBackward0>)\n",
            "tensor(7.6029, dtype=torch.float64, grad_fn=<MeanBackward0>)\n",
            "tensor(7.6019, dtype=torch.float64, grad_fn=<MeanBackward0>)\n",
            "tensor(7.6009, dtype=torch.float64, grad_fn=<MeanBackward0>)\n",
            "tensor(7.6006, dtype=torch.float64, grad_fn=<MeanBackward0>)\n",
            "tensor(7.6002, dtype=torch.float64, grad_fn=<MeanBackward0>)\n",
            "tensor(7.6001, dtype=torch.float64, grad_fn=<MeanBackward0>)\n",
            "tensor(7.5998, dtype=torch.float64, grad_fn=<MeanBackward0>)\n",
            "tensor(7.5993, dtype=torch.float64, grad_fn=<MeanBackward0>)\n",
            "tensor(7.5990, dtype=torch.float64, grad_fn=<MeanBackward0>)\n",
            "tensor(7.5986, dtype=torch.float64, grad_fn=<MeanBackward0>)\n",
            "tensor(7.5985, dtype=torch.float64, grad_fn=<MeanBackward0>)\n",
            "tensor(7.6011, dtype=torch.float64, grad_fn=<MeanBackward0>)\n",
            "tensor(7.6019, dtype=torch.float64, grad_fn=<MeanBackward0>)\n",
            "tensor(7.5992, dtype=torch.float64, grad_fn=<MeanBackward0>)\n",
            "tensor(7.5971, dtype=torch.float64, grad_fn=<MeanBackward0>)\n",
            "tensor(7.5967, dtype=torch.float64, grad_fn=<MeanBackward0>)\n",
            "tensor(7.5964, dtype=torch.float64, grad_fn=<MeanBackward0>)\n",
            "tensor(7.6034, dtype=torch.float64, grad_fn=<MeanBackward0>)\n",
            "tensor(7.6020, dtype=torch.float64, grad_fn=<MeanBackward0>)\n",
            "tensor(7.5955, dtype=torch.float64, grad_fn=<MeanBackward0>)\n",
            "tensor(7.5951, dtype=torch.float64, grad_fn=<MeanBackward0>)\n",
            "tensor(7.5948, dtype=torch.float64, grad_fn=<MeanBackward0>)\n",
            "tensor(7.5965, dtype=torch.float64, grad_fn=<MeanBackward0>)\n",
            "tensor(7.5969, dtype=torch.float64, grad_fn=<MeanBackward0>)\n",
            "tensor(7.5938, dtype=torch.float64, grad_fn=<MeanBackward0>)\n",
            "tensor(7.5935, dtype=torch.float64, grad_fn=<MeanBackward0>)\n",
            "tensor(7.5932, dtype=torch.float64, grad_fn=<MeanBackward0>)\n",
            "tensor(7.6107, dtype=torch.float64, grad_fn=<MeanBackward0>)\n",
            "tensor(7.5947, dtype=torch.float64, grad_fn=<MeanBackward0>)\n",
            "tensor(7.5923, dtype=torch.float64, grad_fn=<MeanBackward0>)\n",
            "tensor(7.5919, dtype=torch.float64, grad_fn=<MeanBackward0>)\n",
            "tensor(7.5916, dtype=torch.float64, grad_fn=<MeanBackward0>)\n",
            "tensor(7.6195, dtype=torch.float64, grad_fn=<MeanBackward0>)\n",
            "tensor(7.5912, dtype=torch.float64, grad_fn=<MeanBackward0>)\n",
            "tensor(7.5906, dtype=torch.float64, grad_fn=<MeanBackward0>)\n",
            "tensor(7.5903, dtype=torch.float64, grad_fn=<MeanBackward0>)\n",
            "tensor(7.5920, dtype=torch.float64, grad_fn=<MeanBackward0>)\n",
            "tensor(7.6110, dtype=torch.float64, grad_fn=<MeanBackward0>)\n",
            "tensor(7.5894, dtype=torch.float64, grad_fn=<MeanBackward0>)\n",
            "tensor(7.5890, dtype=torch.float64, grad_fn=<MeanBackward0>)\n",
            "tensor(7.5887, dtype=torch.float64, grad_fn=<MeanBackward0>)\n",
            "tensor(7.5936, dtype=torch.float64, grad_fn=<MeanBackward0>)\n",
            "tensor(7.6071, dtype=torch.float64, grad_fn=<MeanBackward0>)\n",
            "tensor(7.5918, dtype=torch.float64, grad_fn=<MeanBackward0>)\n",
            "tensor(7.5883, dtype=torch.float64, grad_fn=<MeanBackward0>)\n",
            "tensor(7.5939, dtype=torch.float64, grad_fn=<MeanBackward0>)\n",
            "tensor(7.5889, dtype=torch.float64, grad_fn=<MeanBackward0>)\n",
            "tensor(7.5874, dtype=torch.float64, grad_fn=<MeanBackward0>)\n",
            "tensor(7.5863, dtype=torch.float64, grad_fn=<MeanBackward0>)\n",
            "tensor(7.5860, dtype=torch.float64, grad_fn=<MeanBackward0>)\n",
            "tensor(7.5856, dtype=torch.float64, grad_fn=<MeanBackward0>)\n",
            "tensor(7.6128, dtype=torch.float64, grad_fn=<MeanBackward0>)\n",
            "tensor(7.5850, dtype=torch.float64, grad_fn=<MeanBackward0>)\n",
            "tensor(7.5847, dtype=torch.float64, grad_fn=<MeanBackward0>)\n",
            "tensor(7.5843, dtype=torch.float64, grad_fn=<MeanBackward0>)\n",
            "tensor(7.5854, dtype=torch.float64, grad_fn=<MeanBackward0>)\n",
            "tensor(7.5930, dtype=torch.float64, grad_fn=<MeanBackward0>)\n",
            "tensor(7.5834, dtype=torch.float64, grad_fn=<MeanBackward0>)\n",
            "tensor(7.5831, dtype=torch.float64, grad_fn=<MeanBackward0>)\n",
            "tensor(7.5828, dtype=torch.float64, grad_fn=<MeanBackward0>)\n",
            "tensor(7.5826, dtype=torch.float64, grad_fn=<MeanBackward0>)\n",
            "tensor(7.6000, dtype=torch.float64, grad_fn=<MeanBackward0>)\n",
            "tensor(7.5869, dtype=torch.float64, grad_fn=<MeanBackward0>)\n",
            "tensor(7.5815, dtype=torch.float64, grad_fn=<MeanBackward0>)\n",
            "tensor(7.5812, dtype=torch.float64, grad_fn=<MeanBackward0>)\n",
            "tensor(7.5809, dtype=torch.float64, grad_fn=<MeanBackward0>)\n",
            "tensor(7.5984, dtype=torch.float64, grad_fn=<MeanBackward0>)\n",
            "tensor(7.5803, dtype=torch.float64, grad_fn=<MeanBackward0>)\n",
            "tensor(7.5799, dtype=torch.float64, grad_fn=<MeanBackward0>)\n",
            "tensor(7.5796, dtype=torch.float64, grad_fn=<MeanBackward0>)\n",
            "tensor(7.5848, dtype=torch.float64, grad_fn=<MeanBackward0>)\n",
            "tensor(7.5862, dtype=torch.float64, grad_fn=<MeanBackward0>)\n",
            "tensor(7.5856, dtype=torch.float64, grad_fn=<MeanBackward0>)\n",
            "tensor(7.5808, dtype=torch.float64, grad_fn=<MeanBackward0>)\n",
            "tensor(7.5795, dtype=torch.float64, grad_fn=<MeanBackward0>)\n",
            "tensor(7.5779, dtype=torch.float64, grad_fn=<MeanBackward0>)\n",
            "tensor(7.5775, dtype=torch.float64, grad_fn=<MeanBackward0>)\n",
            "tensor(7.5771, dtype=torch.float64, grad_fn=<MeanBackward0>)\n",
            "tensor(7.6117, dtype=torch.float64, grad_fn=<MeanBackward0>)\n",
            "tensor(7.5781, dtype=torch.float64, grad_fn=<MeanBackward0>)\n",
            "tensor(7.5818, dtype=torch.float64, grad_fn=<MeanBackward0>)\n",
            "tensor(7.5864, dtype=torch.float64, grad_fn=<MeanBackward0>)\n",
            "tensor(7.5756, dtype=torch.float64, grad_fn=<MeanBackward0>)\n",
            "tensor(7.5753, dtype=torch.float64, grad_fn=<MeanBackward0>)\n",
            "tensor(7.5770, dtype=torch.float64, grad_fn=<MeanBackward0>)\n",
            "tensor(7.6067, dtype=torch.float64, grad_fn=<MeanBackward0>)\n",
            "tensor(7.5744, dtype=torch.float64, grad_fn=<MeanBackward0>)\n",
            "tensor(7.5741, dtype=torch.float64, grad_fn=<MeanBackward0>)\n",
            "tensor(7.5737, dtype=torch.float64, grad_fn=<MeanBackward0>)\n",
            "tensor(7.5746, dtype=torch.float64, grad_fn=<MeanBackward0>)\n",
            "tensor(7.5796, dtype=torch.float64, grad_fn=<MeanBackward0>)\n",
            "tensor(7.5765, dtype=torch.float64, grad_fn=<MeanBackward0>)\n",
            "tensor(7.5725, dtype=torch.float64, grad_fn=<MeanBackward0>)\n",
            "tensor(7.5722, dtype=torch.float64, grad_fn=<MeanBackward0>)\n",
            "tensor(7.5720, dtype=torch.float64, grad_fn=<MeanBackward0>)\n",
            "tensor(7.6508, dtype=torch.float64, grad_fn=<MeanBackward0>)\n",
            "tensor(7.5980, dtype=torch.float64, grad_fn=<MeanBackward0>)\n",
            "tensor(7.5710, dtype=torch.float64, grad_fn=<MeanBackward0>)\n",
            "tensor(7.5706, dtype=torch.float64, grad_fn=<MeanBackward0>)\n",
            "tensor(7.5704, dtype=torch.float64, grad_fn=<MeanBackward0>)\n",
            "tensor(7.5909, dtype=torch.float64, grad_fn=<MeanBackward0>)\n",
            "tensor(7.5702, dtype=torch.float64, grad_fn=<MeanBackward0>)\n",
            "tensor(7.5723, dtype=torch.float64, grad_fn=<MeanBackward0>)\n",
            "tensor(7.5791, dtype=torch.float64, grad_fn=<MeanBackward0>)\n",
            "tensor(7.5703, dtype=torch.float64, grad_fn=<MeanBackward0>)\n",
            "tensor(7.5741, dtype=torch.float64, grad_fn=<MeanBackward0>)\n",
            "tensor(7.5703, dtype=torch.float64, grad_fn=<MeanBackward0>)\n",
            "tensor(7.5714, dtype=torch.float64, grad_fn=<MeanBackward0>)\n",
            "tensor(7.5707, dtype=torch.float64, grad_fn=<MeanBackward0>)\n",
            "tensor(7.5739, dtype=torch.float64, grad_fn=<MeanBackward0>)\n",
            "tensor(7.5788, dtype=torch.float64, grad_fn=<MeanBackward0>)\n",
            "tensor(7.5698, dtype=torch.float64, grad_fn=<MeanBackward0>)\n",
            "tensor(7.5665, dtype=torch.float64, grad_fn=<MeanBackward0>)\n",
            "tensor(7.5662, dtype=torch.float64, grad_fn=<MeanBackward0>)\n",
            "tensor(7.5660, dtype=torch.float64, grad_fn=<MeanBackward0>)\n",
            "tensor(7.6536, dtype=torch.float64, grad_fn=<MeanBackward0>)\n",
            "tensor(7.5680, dtype=torch.float64, grad_fn=<MeanBackward0>)\n",
            "tensor(7.5720, dtype=torch.float64, grad_fn=<MeanBackward0>)\n",
            "tensor(7.5725, dtype=torch.float64, grad_fn=<MeanBackward0>)\n",
            "tensor(7.5798, dtype=torch.float64, grad_fn=<MeanBackward0>)\n",
            "tensor(7.5645, dtype=torch.float64, grad_fn=<MeanBackward0>)\n",
            "tensor(7.5638, dtype=torch.float64, grad_fn=<MeanBackward0>)\n",
            "tensor(7.5634, dtype=torch.float64, grad_fn=<MeanBackward0>)\n",
            "tensor(7.5702, dtype=torch.float64, grad_fn=<MeanBackward0>)\n",
            "tensor(7.5662, dtype=torch.float64, grad_fn=<MeanBackward0>)\n",
            "tensor(7.5692, dtype=torch.float64, grad_fn=<MeanBackward0>)\n",
            "tensor(7.5674, dtype=torch.float64, grad_fn=<MeanBackward0>)\n",
            "tensor(7.5660, dtype=torch.float64, grad_fn=<MeanBackward0>)\n",
            "tensor(7.5658, dtype=torch.float64, grad_fn=<MeanBackward0>)\n",
            "tensor(7.5614, dtype=torch.float64, grad_fn=<MeanBackward0>)\n",
            "tensor(7.5610, dtype=torch.float64, grad_fn=<MeanBackward0>)\n",
            "tensor(7.5610, dtype=torch.float64, grad_fn=<MeanBackward0>)\n",
            "tensor(7.5656, dtype=torch.float64, grad_fn=<MeanBackward0>)\n",
            "tensor(7.5690, dtype=torch.float64, grad_fn=<MeanBackward0>)\n",
            "tensor(7.5636, dtype=torch.float64, grad_fn=<MeanBackward0>)\n",
            "tensor(7.5599, dtype=torch.float64, grad_fn=<MeanBackward0>)\n",
            "tensor(7.5593, dtype=torch.float64, grad_fn=<MeanBackward0>)\n",
            "tensor(7.5590, dtype=torch.float64, grad_fn=<MeanBackward0>)\n",
            "tensor(7.5589, dtype=torch.float64, grad_fn=<MeanBackward0>)\n",
            "tensor(7.5650, dtype=torch.float64, grad_fn=<MeanBackward0>)\n",
            "tensor(7.5581, dtype=torch.float64, grad_fn=<MeanBackward0>)\n",
            "tensor(7.5578, dtype=torch.float64, grad_fn=<MeanBackward0>)\n",
            "tensor(7.5575, dtype=torch.float64, grad_fn=<MeanBackward0>)\n",
            "tensor(7.6573, dtype=torch.float64, grad_fn=<MeanBackward0>)\n",
            "tensor(7.5613, dtype=torch.float64, grad_fn=<MeanBackward0>)\n",
            "tensor(7.5667, dtype=torch.float64, grad_fn=<MeanBackward0>)\n",
            "tensor(7.5670, dtype=torch.float64, grad_fn=<MeanBackward0>)\n",
            "tensor(7.5584, dtype=torch.float64, grad_fn=<MeanBackward0>)\n",
            "tensor(7.5558, dtype=torch.float64, grad_fn=<MeanBackward0>)\n",
            "tensor(7.5555, dtype=torch.float64, grad_fn=<MeanBackward0>)\n",
            "tensor(7.5567, dtype=torch.float64, grad_fn=<MeanBackward0>)\n",
            "tensor(7.5950, dtype=torch.float64, grad_fn=<MeanBackward0>)\n",
            "tensor(7.5693, dtype=torch.float64, grad_fn=<MeanBackward0>)\n",
            "tensor(7.5556, dtype=torch.float64, grad_fn=<MeanBackward0>)\n",
            "tensor(7.5621, dtype=torch.float64, grad_fn=<MeanBackward0>)\n",
            "tensor(7.5544, dtype=torch.float64, grad_fn=<MeanBackward0>)\n",
            "tensor(7.5536, dtype=torch.float64, grad_fn=<MeanBackward0>)\n",
            "tensor(7.5535, dtype=torch.float64, grad_fn=<MeanBackward0>)\n",
            "tensor(7.5808, dtype=torch.float64, grad_fn=<MeanBackward0>)\n",
            "tensor(7.5530, dtype=torch.float64, grad_fn=<MeanBackward0>)\n",
            "tensor(7.5525, dtype=torch.float64, grad_fn=<MeanBackward0>)\n",
            "tensor(7.5528, dtype=torch.float64, grad_fn=<MeanBackward0>)\n",
            "tensor(7.6841, dtype=torch.float64, grad_fn=<MeanBackward0>)\n",
            "tensor(7.5565, dtype=torch.float64, grad_fn=<MeanBackward0>)\n",
            "tensor(7.5515, dtype=torch.float64, grad_fn=<MeanBackward0>)\n",
            "tensor(7.5511, dtype=torch.float64, grad_fn=<MeanBackward0>)\n",
            "tensor(7.5508, dtype=torch.float64, grad_fn=<MeanBackward0>)\n",
            "tensor(7.5506, dtype=torch.float64, grad_fn=<MeanBackward0>)\n",
            "tensor(7.5562, dtype=torch.float64, grad_fn=<MeanBackward0>)\n",
            "tensor(7.5537, dtype=torch.float64, grad_fn=<MeanBackward0>)\n",
            "tensor(7.5498, dtype=torch.float64, grad_fn=<MeanBackward0>)\n",
            "tensor(7.5494, dtype=torch.float64, grad_fn=<MeanBackward0>)\n",
            "tensor(7.5497, dtype=torch.float64, grad_fn=<MeanBackward0>)\n",
            "tensor(7.5495, dtype=torch.float64, grad_fn=<MeanBackward0>)\n",
            "tensor(7.5489, dtype=torch.float64, grad_fn=<MeanBackward0>)\n",
            "tensor(7.5483, dtype=torch.float64, grad_fn=<MeanBackward0>)\n",
            "tensor(7.5481, dtype=torch.float64, grad_fn=<MeanBackward0>)\n",
            "tensor(7.5640, dtype=torch.float64, grad_fn=<MeanBackward0>)\n",
            "tensor(7.5475, dtype=torch.float64, grad_fn=<MeanBackward0>)\n",
            "tensor(7.5472, dtype=torch.float64, grad_fn=<MeanBackward0>)\n",
            "tensor(7.5472, dtype=torch.float64, grad_fn=<MeanBackward0>)\n",
            "tensor(7.5544, dtype=torch.float64, grad_fn=<MeanBackward0>)\n",
            "tensor(7.5506, dtype=torch.float64, grad_fn=<MeanBackward0>)\n",
            "tensor(7.5514, dtype=torch.float64, grad_fn=<MeanBackward0>)\n",
            "tensor(7.5459, dtype=torch.float64, grad_fn=<MeanBackward0>)\n",
            "tensor(7.5456, dtype=torch.float64, grad_fn=<MeanBackward0>)\n",
            "tensor(7.5454, dtype=torch.float64, grad_fn=<MeanBackward0>)\n",
            "tensor(7.5489, dtype=torch.float64, grad_fn=<MeanBackward0>)\n",
            "tensor(7.5457, dtype=torch.float64, grad_fn=<MeanBackward0>)\n",
            "tensor(7.5473, dtype=torch.float64, grad_fn=<MeanBackward0>)\n",
            "tensor(7.5454, dtype=torch.float64, grad_fn=<MeanBackward0>)\n",
            "tensor(7.5469, dtype=torch.float64, grad_fn=<MeanBackward0>)\n",
            "tensor(7.5480, dtype=torch.float64, grad_fn=<MeanBackward0>)\n",
            "tensor(7.5457, dtype=torch.float64, grad_fn=<MeanBackward0>)\n",
            "tensor(7.5605, dtype=torch.float64, grad_fn=<MeanBackward0>)\n",
            "tensor(7.5447, dtype=torch.float64, grad_fn=<MeanBackward0>)\n",
            "tensor(7.5504, dtype=torch.float64, grad_fn=<MeanBackward0>)\n",
            "tensor(7.5579, dtype=torch.float64, grad_fn=<MeanBackward0>)\n",
            "tensor(7.5473, dtype=torch.float64, grad_fn=<MeanBackward0>)\n",
            "tensor(7.5531, dtype=torch.float64, grad_fn=<MeanBackward0>)\n",
            "tensor(7.5418, dtype=torch.float64, grad_fn=<MeanBackward0>)\n",
            "tensor(7.5415, dtype=torch.float64, grad_fn=<MeanBackward0>)\n",
            "tensor(7.5435, dtype=torch.float64, grad_fn=<MeanBackward0>)\n",
            "tensor(7.6175, dtype=torch.float64, grad_fn=<MeanBackward0>)\n",
            "tensor(7.5413, dtype=torch.float64, grad_fn=<MeanBackward0>)\n",
            "tensor(7.5447, dtype=torch.float64, grad_fn=<MeanBackward0>)\n",
            "tensor(7.5403, dtype=torch.float64, grad_fn=<MeanBackward0>)\n",
            "tensor(7.5400, dtype=torch.float64, grad_fn=<MeanBackward0>)\n",
            "tensor(7.5402, dtype=torch.float64, grad_fn=<MeanBackward0>)\n",
            "tensor(7.5438, dtype=torch.float64, grad_fn=<MeanBackward0>)\n",
            "tensor(7.5402, dtype=torch.float64, grad_fn=<MeanBackward0>)\n",
            "tensor(7.5396, dtype=torch.float64, grad_fn=<MeanBackward0>)\n",
            "tensor(7.5436, dtype=torch.float64, grad_fn=<MeanBackward0>)\n",
            "tensor(7.5445, dtype=torch.float64, grad_fn=<MeanBackward0>)\n",
            "tensor(7.5447, dtype=torch.float64, grad_fn=<MeanBackward0>)\n",
            "tensor(7.5561, dtype=torch.float64, grad_fn=<MeanBackward0>)\n",
            "tensor(7.5466, dtype=torch.float64, grad_fn=<MeanBackward0>)\n",
            "tensor(7.5390, dtype=torch.float64, grad_fn=<MeanBackward0>)\n",
            "tensor(7.5372, dtype=torch.float64, grad_fn=<MeanBackward0>)\n",
            "tensor(7.5370, dtype=torch.float64, grad_fn=<MeanBackward0>)\n",
            "tensor(7.5370, dtype=torch.float64, grad_fn=<MeanBackward0>)\n",
            "tensor(7.5428, dtype=torch.float64, grad_fn=<MeanBackward0>)\n",
            "tensor(7.5362, dtype=torch.float64, grad_fn=<MeanBackward0>)\n",
            "tensor(7.5373, dtype=torch.float64, grad_fn=<MeanBackward0>)\n",
            "tensor(7.5379, dtype=torch.float64, grad_fn=<MeanBackward0>)\n",
            "tensor(7.5375, dtype=torch.float64, grad_fn=<MeanBackward0>)\n",
            "tensor(7.5445, dtype=torch.float64, grad_fn=<MeanBackward0>)\n",
            "tensor(7.5630, dtype=torch.float64, grad_fn=<MeanBackward0>)\n",
            "tensor(7.5346, dtype=torch.float64, grad_fn=<MeanBackward0>)\n",
            "tensor(7.5344, dtype=torch.float64, grad_fn=<MeanBackward0>)\n",
            "tensor(7.5369, dtype=torch.float64, grad_fn=<MeanBackward0>)\n",
            "tensor(7.5667, dtype=torch.float64, grad_fn=<MeanBackward0>)\n",
            "tensor(7.5336, dtype=torch.float64, grad_fn=<MeanBackward0>)\n",
            "tensor(7.5349, dtype=torch.float64, grad_fn=<MeanBackward0>)\n",
            "tensor(7.5355, dtype=torch.float64, grad_fn=<MeanBackward0>)\n",
            "tensor(7.5518, dtype=torch.float64, grad_fn=<MeanBackward0>)\n",
            "tensor(7.5438, dtype=torch.float64, grad_fn=<MeanBackward0>)\n",
            "tensor(7.5427, dtype=torch.float64, grad_fn=<MeanBackward0>)\n",
            "tensor(7.5367, dtype=torch.float64, grad_fn=<MeanBackward0>)\n",
            "tensor(7.5331, dtype=torch.float64, grad_fn=<MeanBackward0>)\n",
            "tensor(7.5337, dtype=torch.float64, grad_fn=<MeanBackward0>)\n",
            "tensor(7.5338, dtype=torch.float64, grad_fn=<MeanBackward0>)\n",
            "tensor(7.5333, dtype=torch.float64, grad_fn=<MeanBackward0>)\n",
            "tensor(7.5310, dtype=torch.float64, grad_fn=<MeanBackward0>)\n"
          ],
          "name": "stdout"
        }
      ]
    },
    {
      "cell_type": "code",
      "metadata": {
        "id": "ex1h2lh0l6Nj",
        "outputId": "aadd3364-8de8-4115-d700-8a27973b4aed",
        "colab": {
          "base_uri": "https://localhost:8080/"
        }
      },
      "source": [
        "pr = bostonPrice_net.forward(X_train[100:200].float())\n",
        "pr.size()"
      ],
      "execution_count": 160,
      "outputs": [
        {
          "output_type": "execute_result",
          "data": {
            "text/plain": [
              "torch.Size([100, 1])"
            ]
          },
          "metadata": {
            "tags": []
          },
          "execution_count": 160
        }
      ]
    },
    {
      "cell_type": "code",
      "metadata": {
        "id": "Mt0Y7suHpCw7"
      },
      "source": [
        "y_train[460:506];"
      ],
      "execution_count": 157,
      "outputs": []
    },
    {
      "cell_type": "code",
      "metadata": {
        "id": "4UwbJpTLnHd9",
        "outputId": "50ff4c25-de67-4a13-9b59-38c047e02bc0",
        "colab": {
          "base_uri": "https://localhost:8080/"
        }
      },
      "source": [
        "loss(y_train[100:200],pr)\n",
        "#pr - y_test"
      ],
      "execution_count": 161,
      "outputs": [
        {
          "output_type": "execute_result",
          "data": {
            "text/plain": [
              "tensor(18.2974, dtype=torch.float64, grad_fn=<MeanBackward0>)"
            ]
          },
          "metadata": {
            "tags": []
          },
          "execution_count": 161
        }
      ]
    },
    {
      "cell_type": "code",
      "metadata": {
        "id": "tP5PjFXUy7pU",
        "outputId": "84d2e2ba-0784-4a96-9151-a3a1e6614b20",
        "colab": {
          "base_uri": "https://localhost:8080/",
          "height": 296
        }
      },
      "source": [
        "plt.plot([row[0] for row in loss_history][100:], [row[1] for row in loss_history][100:])\n",
        "plt.title(label='Loss function')\n",
        "plt.xlabel('Epoch_index')\n",
        "plt.ylabel('Error');\n",
        "plt.show()"
      ],
      "execution_count": 175,
      "outputs": [
        {
          "output_type": "display_data",
          "data": {
            "image/png": "[encoded data removed]",
            "text/plain": [
              "<Figure size 432x288 with 1 Axes>"
            ]
          },
          "metadata": {
            "tags": [],
            "needs_background": "light"
          }
        }
      ]
    },
    {
      "cell_type": "code",
      "metadata": {
        "id": "1LZgSTH3qnRr",
        "outputId": "ead2f536-1dff-415a-9297-0b7e00691969",
        "colab": {
          "base_uri": "https://localhost:8080/",
          "height": 282
        }
      },
      "source": [
        "x = torch.zeros(y_train.size(0),1)\n",
        "for i in range(y_train.size(0)):\n",
        "    x[i] = i\n",
        "\n",
        "plt.plot(x.numpy(), y_train.detach().numpy())"
      ],
      "execution_count": null,
      "outputs": [
        {
          "output_type": "execute_result",
          "data": {
            "text/plain": [
              "[<matplotlib.lines.Line2D at 0x7f2dbfab41d0>]"
            ]
          },
          "metadata": {
            "tags": []
          },
          "execution_count": 58
        },
        {
          "output_type": "display_data",
          "data": {
            "image/png": "[encoded data removed]",
            "text/plain": [
              "<Figure size 432x288 with 1 Axes>"
            ]
          },
          "metadata": {
            "tags": [],
            "needs_background": "light"
          }
        }
      ]
    },
    {
      "cell_type": "code",
      "metadata": {
        "id": "IQ-KSq5hwriN"
      },
      "source": [
        "plt.plot(x.numpy(), X_train[:,12].detach().numpy(),'r')"
      ],
      "execution_count": null,
      "outputs": []
    }
  ]
}