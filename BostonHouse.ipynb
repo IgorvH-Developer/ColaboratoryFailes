{
  "nbformat": 4,
  "nbformat_minor": 0,
  "metadata": {
    "colab": {
      "name": "BostonHouse.ipynb",
      "provenance": [],
      "collapsed_sections": [],
      "toc_visible": true,
      "authorship_tag": "ABX9TyO3BGjcQUfZQtHQymWEkSC2",
      "include_colab_link": true
    },
    "kernelspec": {
      "name": "python3",
      "display_name": "Python 3"
    },
    "accelerator": "GPU"
  },
  "cells": [
    {
      "cell_type": "markdown",
      "metadata": {
        "id": "view-in-github",
        "colab_type": "text"
      },
      "source": [
        "<a href=\"https://colab.research.google.com/github/IgorvH-Developer/ColaboratoryFailes/blob/main/BostonHouse.ipynb\" target=\"_parent\"><img src=\"https://colab.research.google.com/assets/colab-badge.svg\" alt=\"Open In Colab\"/></a>"
      ]
    },
    {
      "cell_type": "code",
      "metadata": {
        "id": "t-kddIogOIFh"
      },
      "source": [
        "import torch\n",
        "import random\n",
        "import numpy as np\n",
        "import matplotlib.pyplot as plt\n",
        "\n",
        "random.seed(0)\n",
        "np.random.seed(0)\n",
        "torch.manual_seed(0)\n",
        "torch.cuda.manual_seed(0)\n",
        "torch.backends.cudnn.deterministic = True\n",
        "\n",
        "from google.colab import drive\n"
      ],
      "execution_count": 26,
      "outputs": []
    },
    {
      "cell_type": "code",
      "metadata": {
        "id": "EI8ROdRTQDiZ"
      },
      "source": [
        "device = torch.device(\"cuda\")"
      ],
      "execution_count": 27,
      "outputs": []
    },
    {
      "cell_type": "code",
      "metadata": {
        "id": "XuwWrQYHP7wV",
        "outputId": "bdb11509-9a73-4e74-9eb3-dd420d3afe09",
        "colab": {
          "base_uri": "https://localhost:8080/"
        }
      },
      "source": [
        "import sklearn.datasets\n",
        "boston = sklearn.datasets.load_boston()\n",
        "boston.data.shape"
      ],
      "execution_count": 28,
      "outputs": [
        {
          "output_type": "execute_result",
          "data": {
            "text/plain": [
              "(506, 13)"
            ]
          },
          "metadata": {
            "tags": []
          },
          "execution_count": 28
        }
      ]
    },
    {
      "cell_type": "code",
      "metadata": {
        "id": "-nURNVQIebcb"
      },
      "source": [
        "X_train = torch.tensor(boston.data[0:460])\n",
        "y_train = torch.tensor(boston.target[0:460])\n",
        "X_test = torch.tensor(boston.data[460:506])\n",
        "y_test = torch.tensor(boston.target[460:506])"
      ],
      "execution_count": 29,
      "outputs": []
    },
    {
      "cell_type": "code",
      "metadata": {
        "id": "34O5bc3hnszR"
      },
      "source": [
        "X_train.requires_grad_()\n",
        "y_train.requires_grad_()\n",
        "X_test.requires_grad_()\n",
        "y_test.requires_grad_()\n",
        "\n",
        "y_train = y_train.reshape(-1,1)\n",
        "y_test = y_test.reshape(-1,1);"
      ],
      "execution_count": 30,
      "outputs": []
    },
    {
      "cell_type": "code",
      "metadata": {
        "id": "g35hOkNY4pKt",
        "outputId": "06aad36a-3b6b-485b-8df5-23d6a9234403",
        "colab": {
          "base_uri": "https://localhost:8080/"
        }
      },
      "source": [
        "a= X_train[:,5]\n",
        "b = X_train[:,12]\n",
        "c= X_test[:,5]\n",
        "d = X_test[:,12]\n",
        "newX_train = torch.ones(a.size(0),2)\n",
        "newX_test = torch.ones(c.size(0),2)\n",
        "\n",
        "newX_train[:,0] = a\n",
        "newX_train[:,1] = b\n",
        "newX_train.requires_grad_\n",
        "newX_test[:,0] = c\n",
        "newX_test[:,1] = d\n",
        "newX_test.requires_grad_\n",
        "newX_test.size()"
      ],
      "execution_count": 31,
      "outputs": [
        {
          "output_type": "execute_result",
          "data": {
            "text/plain": [
              "torch.Size([46, 2])"
            ]
          },
          "metadata": {
            "tags": []
          },
          "execution_count": 31
        }
      ]
    },
    {
      "cell_type": "code",
      "metadata": {
        "id": "_x9CZ2T-iPQJ",
        "outputId": "802beac1-043c-4054-fa27-3d9be0df5d7f",
        "colab": {
          "base_uri": "https://localhost:8080/"
        }
      },
      "source": [
        "y_test.size()"
      ],
      "execution_count": 32,
      "outputs": [
        {
          "output_type": "execute_result",
          "data": {
            "text/plain": [
              "torch.Size([46, 1])"
            ]
          },
          "metadata": {
            "tags": []
          },
          "execution_count": 32
        }
      ]
    },
    {
      "cell_type": "code",
      "metadata": {
        "id": "YDixvKoAQG0Q"
      },
      "source": [
        "class GuessPrice(torch.nn.Module):\n",
        "    def __init__(self, n_hidden_neurons):\n",
        "        super(GuessPrice, self).__init__()\n",
        "        \n",
        "        self.fc1 = torch.nn.Linear(13, n_hidden_neurons)\n",
        "        self.activ1 = torch.nn.Sigmoid()\n",
        "        self.fc2 = torch.nn.Linear(n_hidden_neurons, n_hidden_neurons)\n",
        "        self.activ2 = torch.nn.Sigmoid()\n",
        "        self.fc3 = torch.nn.Linear(n_hidden_neurons, 1)\n",
        "        \n",
        "    def forward(self,x):\n",
        "        x = self.fc1(x)\n",
        "        x = self.activ1(x)\n",
        "        x = self.fc2(x)\n",
        "        x = self.activ2(x)\n",
        "        x = self.fc3(x)\n",
        "        return x\n",
        "\n",
        "    \n",
        "bostonPrice_net = GuessPrice(6)"
      ],
      "execution_count": 104,
      "outputs": []
    },
    {
      "cell_type": "code",
      "metadata": {
        "id": "Q0MEUgb4QI0m"
      },
      "source": [
        "def loss(preds, target):\n",
        "    square = ((preds - target) ** 2).mean()\n",
        "    return square\n",
        "\n",
        "optimizer = torch.optim.Adam (bostonPrice_net.parameters(), \n",
        "                             lr=0.0001)"
      ],
      "execution_count": 120,
      "outputs": []
    },
    {
      "cell_type": "code",
      "metadata": {
        "id": "783P7h9kQMQZ",
        "outputId": "66edb378-fe35-49cb-b6c3-46ed8968cab0",
        "colab": {
          "base_uri": "https://localhost:8080/",
          "height": 1000
        }
      },
      "source": [
        "batch_size = 460\n",
        "loss_history = [[0,0] for i in range(50000)]\n",
        "\n",
        "for epoch in range(50000):\n",
        "    order = np.random.permutation(len(X_train))\n",
        "    for start_index in range(0, len(X_train), batch_size):\n",
        "        optimizer.zero_grad()\n",
        "        \n",
        "        batch_indexes = order[start_index:start_index+batch_size]\n",
        "        \n",
        "        x_batch = X_train[batch_indexes]\n",
        "        y_batch = y_train[batch_indexes]\n",
        "        \n",
        "        preds = bostonPrice_net.forward(x_batch.float()) \n",
        "        \n",
        "        loss_value = loss(preds, y_batch)\n",
        "        #print(loss_value)\n",
        "        loss_value.backward()\n",
        "\n",
        "        loss_history[epoch][0] = epoch\n",
        "        loss_history[epoch][1] = loss_value.data.numpy().tolist()\n",
        "        \n",
        "        optimizer.step()\n",
        "        \n",
        "    if epoch % 100 == 0:\n",
        "        test_preds = bostonPrice_net.forward(X_test.float())\n",
        "        print(((test_preds - y_test) ** 2).mean())"
      ],
      "execution_count": 121,
      "outputs": [
        {
          "output_type": "stream",
          "text": [
            "tensor(13.9687, dtype=torch.float64, grad_fn=<MeanBackward0>)\n",
            "tensor(11.5077, dtype=torch.float64, grad_fn=<MeanBackward0>)\n",
            "tensor(11.4986, dtype=torch.float64, grad_fn=<MeanBackward0>)\n",
            "tensor(11.4985, dtype=torch.float64, grad_fn=<MeanBackward0>)\n",
            "tensor(11.4985, dtype=torch.float64, grad_fn=<MeanBackward0>)\n",
            "tensor(11.4985, dtype=torch.float64, grad_fn=<MeanBackward0>)\n",
            "tensor(11.4985, dtype=torch.float64, grad_fn=<MeanBackward0>)\n",
            "tensor(11.4984, dtype=torch.float64, grad_fn=<MeanBackward0>)\n",
            "tensor(11.4984, dtype=torch.float64, grad_fn=<MeanBackward0>)\n",
            "tensor(11.4983, dtype=torch.float64, grad_fn=<MeanBackward0>)\n",
            "tensor(11.4982, dtype=torch.float64, grad_fn=<MeanBackward0>)\n",
            "tensor(11.4982, dtype=torch.float64, grad_fn=<MeanBackward0>)\n",
            "tensor(11.4981, dtype=torch.float64, grad_fn=<MeanBackward0>)\n",
            "tensor(11.4981, dtype=torch.float64, grad_fn=<MeanBackward0>)\n",
            "tensor(11.4980, dtype=torch.float64, grad_fn=<MeanBackward0>)\n",
            "tensor(11.4981, dtype=torch.float64, grad_fn=<MeanBackward0>)\n",
            "tensor(11.4981, dtype=torch.float64, grad_fn=<MeanBackward0>)\n",
            "tensor(11.4981, dtype=torch.float64, grad_fn=<MeanBackward0>)\n",
            "tensor(11.4980, dtype=torch.float64, grad_fn=<MeanBackward0>)\n",
            "tensor(11.4981, dtype=torch.float64, grad_fn=<MeanBackward0>)\n",
            "tensor(11.4980, dtype=torch.float64, grad_fn=<MeanBackward0>)\n",
            "tensor(11.5398, dtype=torch.float64, grad_fn=<MeanBackward0>)\n",
            "tensor(11.4980, dtype=torch.float64, grad_fn=<MeanBackward0>)\n",
            "tensor(11.4981, dtype=torch.float64, grad_fn=<MeanBackward0>)\n",
            "tensor(11.5003, dtype=torch.float64, grad_fn=<MeanBackward0>)\n",
            "tensor(11.4980, dtype=torch.float64, grad_fn=<MeanBackward0>)\n",
            "tensor(11.4972, dtype=torch.float64, grad_fn=<MeanBackward0>)\n",
            "tensor(11.4997, dtype=torch.float64, grad_fn=<MeanBackward0>)\n",
            "tensor(11.4979, dtype=torch.float64, grad_fn=<MeanBackward0>)\n",
            "tensor(11.6723, dtype=torch.float64, grad_fn=<MeanBackward0>)\n",
            "tensor(11.4968, dtype=torch.float64, grad_fn=<MeanBackward0>)\n",
            "tensor(11.4977, dtype=torch.float64, grad_fn=<MeanBackward0>)\n",
            "tensor(11.5091, dtype=torch.float64, grad_fn=<MeanBackward0>)\n",
            "tensor(11.4978, dtype=torch.float64, grad_fn=<MeanBackward0>)\n",
            "tensor(11.3607, dtype=torch.float64, grad_fn=<MeanBackward0>)\n",
            "tensor(11.4972, dtype=torch.float64, grad_fn=<MeanBackward0>)\n",
            "tensor(11.4977, dtype=torch.float64, grad_fn=<MeanBackward0>)\n",
            "tensor(11.7493, dtype=torch.float64, grad_fn=<MeanBackward0>)\n",
            "tensor(11.4964, dtype=torch.float64, grad_fn=<MeanBackward0>)\n",
            "tensor(11.4975, dtype=torch.float64, grad_fn=<MeanBackward0>)\n",
            "tensor(11.5113, dtype=torch.float64, grad_fn=<MeanBackward0>)\n",
            "tensor(11.4975, dtype=torch.float64, grad_fn=<MeanBackward0>)\n",
            "tensor(11.5668, dtype=torch.float64, grad_fn=<MeanBackward0>)\n",
            "tensor(11.4981, dtype=torch.float64, grad_fn=<MeanBackward0>)\n",
            "tensor(11.4104, dtype=torch.float64, grad_fn=<MeanBackward0>)\n",
            "tensor(11.4961, dtype=torch.float64, grad_fn=<MeanBackward0>)\n",
            "tensor(11.4975, dtype=torch.float64, grad_fn=<MeanBackward0>)\n",
            "tensor(11.5193, dtype=torch.float64, grad_fn=<MeanBackward0>)\n",
            "tensor(11.4978, dtype=torch.float64, grad_fn=<MeanBackward0>)\n",
            "tensor(11.4966, dtype=torch.float64, grad_fn=<MeanBackward0>)\n",
            "tensor(11.4927, dtype=torch.float64, grad_fn=<MeanBackward0>)\n",
            "tensor(11.4975, dtype=torch.float64, grad_fn=<MeanBackward0>)\n",
            "tensor(11.5369, dtype=torch.float64, grad_fn=<MeanBackward0>)\n",
            "tensor(11.4972, dtype=torch.float64, grad_fn=<MeanBackward0>)\n",
            "tensor(11.6115, dtype=torch.float64, grad_fn=<MeanBackward0>)\n",
            "tensor(11.4967, dtype=torch.float64, grad_fn=<MeanBackward0>)\n",
            "tensor(11.4939, dtype=torch.float64, grad_fn=<MeanBackward0>)\n",
            "tensor(11.5008, dtype=torch.float64, grad_fn=<MeanBackward0>)\n",
            "tensor(11.4975, dtype=torch.float64, grad_fn=<MeanBackward0>)\n",
            "tensor(11.5178, dtype=torch.float64, grad_fn=<MeanBackward0>)\n",
            "tensor(11.4975, dtype=torch.float64, grad_fn=<MeanBackward0>)\n",
            "tensor(11.4976, dtype=torch.float64, grad_fn=<MeanBackward0>)\n",
            "tensor(11.4959, dtype=torch.float64, grad_fn=<MeanBackward0>)\n",
            "tensor(11.4975, dtype=torch.float64, grad_fn=<MeanBackward0>)\n",
            "tensor(11.4993, dtype=torch.float64, grad_fn=<MeanBackward0>)\n",
            "tensor(11.4966, dtype=torch.float64, grad_fn=<MeanBackward0>)\n",
            "tensor(11.4976, dtype=torch.float64, grad_fn=<MeanBackward0>)\n",
            "tensor(11.4994, dtype=torch.float64, grad_fn=<MeanBackward0>)\n",
            "tensor(11.5000, dtype=torch.float64, grad_fn=<MeanBackward0>)\n",
            "tensor(11.4975, dtype=torch.float64, grad_fn=<MeanBackward0>)\n",
            "tensor(11.4770, dtype=torch.float64, grad_fn=<MeanBackward0>)\n",
            "tensor(11.4976, dtype=torch.float64, grad_fn=<MeanBackward0>)\n",
            "tensor(11.6073, dtype=torch.float64, grad_fn=<MeanBackward0>)\n",
            "tensor(11.4976, dtype=torch.float64, grad_fn=<MeanBackward0>)\n",
            "tensor(11.4978, dtype=torch.float64, grad_fn=<MeanBackward0>)\n",
            "tensor(11.4923, dtype=torch.float64, grad_fn=<MeanBackward0>)\n",
            "tensor(11.4976, dtype=torch.float64, grad_fn=<MeanBackward0>)\n",
            "tensor(11.4690, dtype=torch.float64, grad_fn=<MeanBackward0>)\n",
            "tensor(11.4974, dtype=torch.float64, grad_fn=<MeanBackward0>)\n",
            "tensor(11.4984, dtype=torch.float64, grad_fn=<MeanBackward0>)\n",
            "tensor(11.5017, dtype=torch.float64, grad_fn=<MeanBackward0>)\n",
            "tensor(11.4977, dtype=torch.float64, grad_fn=<MeanBackward0>)\n",
            "tensor(11.4977, dtype=torch.float64, grad_fn=<MeanBackward0>)\n",
            "tensor(11.4883, dtype=torch.float64, grad_fn=<MeanBackward0>)\n",
            "tensor(11.4981, dtype=torch.float64, grad_fn=<MeanBackward0>)\n",
            "tensor(11.4978, dtype=torch.float64, grad_fn=<MeanBackward0>)\n",
            "tensor(11.4120, dtype=torch.float64, grad_fn=<MeanBackward0>)\n",
            "tensor(11.4972, dtype=torch.float64, grad_fn=<MeanBackward0>)\n",
            "tensor(11.4978, dtype=torch.float64, grad_fn=<MeanBackward0>)\n",
            "tensor(11.4862, dtype=torch.float64, grad_fn=<MeanBackward0>)\n",
            "tensor(11.4977, dtype=torch.float64, grad_fn=<MeanBackward0>)\n",
            "tensor(11.4973, dtype=torch.float64, grad_fn=<MeanBackward0>)\n",
            "tensor(11.5044, dtype=torch.float64, grad_fn=<MeanBackward0>)\n",
            "tensor(11.4977, dtype=torch.float64, grad_fn=<MeanBackward0>)\n",
            "tensor(11.4811, dtype=torch.float64, grad_fn=<MeanBackward0>)\n",
            "tensor(11.4977, dtype=torch.float64, grad_fn=<MeanBackward0>)\n",
            "tensor(11.4326, dtype=torch.float64, grad_fn=<MeanBackward0>)\n",
            "tensor(11.4973, dtype=torch.float64, grad_fn=<MeanBackward0>)\n",
            "tensor(11.4980, dtype=torch.float64, grad_fn=<MeanBackward0>)\n",
            "tensor(11.5169, dtype=torch.float64, grad_fn=<MeanBackward0>)\n",
            "tensor(11.4978, dtype=torch.float64, grad_fn=<MeanBackward0>)\n",
            "tensor(11.3811, dtype=torch.float64, grad_fn=<MeanBackward0>)\n",
            "tensor(11.4980, dtype=torch.float64, grad_fn=<MeanBackward0>)\n",
            "tensor(11.4980, dtype=torch.float64, grad_fn=<MeanBackward0>)\n",
            "tensor(11.5018, dtype=torch.float64, grad_fn=<MeanBackward0>)\n",
            "tensor(11.4980, dtype=torch.float64, grad_fn=<MeanBackward0>)\n",
            "tensor(11.4979, dtype=torch.float64, grad_fn=<MeanBackward0>)\n",
            "tensor(11.4471, dtype=torch.float64, grad_fn=<MeanBackward0>)\n",
            "tensor(11.4986, dtype=torch.float64, grad_fn=<MeanBackward0>)\n",
            "tensor(11.4968, dtype=torch.float64, grad_fn=<MeanBackward0>)\n",
            "tensor(11.5006, dtype=torch.float64, grad_fn=<MeanBackward0>)\n",
            "tensor(11.4981, dtype=torch.float64, grad_fn=<MeanBackward0>)\n",
            "tensor(11.5114, dtype=torch.float64, grad_fn=<MeanBackward0>)\n",
            "tensor(11.4982, dtype=torch.float64, grad_fn=<MeanBackward0>)\n",
            "tensor(11.2818, dtype=torch.float64, grad_fn=<MeanBackward0>)\n",
            "tensor(11.4967, dtype=torch.float64, grad_fn=<MeanBackward0>)\n",
            "tensor(11.4980, dtype=torch.float64, grad_fn=<MeanBackward0>)\n",
            "tensor(11.4978, dtype=torch.float64, grad_fn=<MeanBackward0>)\n",
            "tensor(11.4978, dtype=torch.float64, grad_fn=<MeanBackward0>)\n",
            "tensor(11.4981, dtype=torch.float64, grad_fn=<MeanBackward0>)\n",
            "tensor(11.4941, dtype=torch.float64, grad_fn=<MeanBackward0>)\n",
            "tensor(11.4949, dtype=torch.float64, grad_fn=<MeanBackward0>)\n",
            "tensor(11.4979, dtype=torch.float64, grad_fn=<MeanBackward0>)\n",
            "tensor(11.5111, dtype=torch.float64, grad_fn=<MeanBackward0>)\n",
            "tensor(11.4981, dtype=torch.float64, grad_fn=<MeanBackward0>)\n",
            "tensor(11.3914, dtype=torch.float64, grad_fn=<MeanBackward0>)\n",
            "tensor(11.4987, dtype=torch.float64, grad_fn=<MeanBackward0>)\n",
            "tensor(11.4945, dtype=torch.float64, grad_fn=<MeanBackward0>)\n",
            "tensor(11.4974, dtype=torch.float64, grad_fn=<MeanBackward0>)\n",
            "tensor(11.4982, dtype=torch.float64, grad_fn=<MeanBackward0>)\n",
            "tensor(11.4873, dtype=torch.float64, grad_fn=<MeanBackward0>)\n",
            "tensor(11.4984, dtype=torch.float64, grad_fn=<MeanBackward0>)\n",
            "tensor(11.5010, dtype=torch.float64, grad_fn=<MeanBackward0>)\n",
            "tensor(11.5003, dtype=torch.float64, grad_fn=<MeanBackward0>)\n",
            "tensor(11.4987, dtype=torch.float64, grad_fn=<MeanBackward0>)\n",
            "tensor(11.4906, dtype=torch.float64, grad_fn=<MeanBackward0>)\n",
            "tensor(11.4984, dtype=torch.float64, grad_fn=<MeanBackward0>)\n",
            "tensor(11.5133, dtype=torch.float64, grad_fn=<MeanBackward0>)\n",
            "tensor(11.4982, dtype=torch.float64, grad_fn=<MeanBackward0>)\n",
            "tensor(11.5049, dtype=torch.float64, grad_fn=<MeanBackward0>)\n",
            "tensor(11.4986, dtype=torch.float64, grad_fn=<MeanBackward0>)\n",
            "tensor(11.5131, dtype=torch.float64, grad_fn=<MeanBackward0>)\n",
            "tensor(11.5006, dtype=torch.float64, grad_fn=<MeanBackward0>)\n",
            "tensor(11.4981, dtype=torch.float64, grad_fn=<MeanBackward0>)\n",
            "tensor(11.4852, dtype=torch.float64, grad_fn=<MeanBackward0>)\n",
            "tensor(11.4982, dtype=torch.float64, grad_fn=<MeanBackward0>)\n",
            "tensor(11.4783, dtype=torch.float64, grad_fn=<MeanBackward0>)\n",
            "tensor(11.4982, dtype=torch.float64, grad_fn=<MeanBackward0>)\n"
          ],
          "name": "stdout"
        },
        {
          "output_type": "error",
          "ename": "KeyboardInterrupt",
          "evalue": "ignored",
          "traceback": [
            "\u001b[0;31m---------------------------------------------------------------------------\u001b[0m",
            "\u001b[0;31mKeyboardInterrupt\u001b[0m                         Traceback (most recent call last)",
            "\u001b[0;32m<ipython-input-121-3fc93366e927>\u001b[0m in \u001b[0;36m<module>\u001b[0;34m()\u001b[0m\n\u001b[1;32m     21\u001b[0m         \u001b[0mloss_history\u001b[0m\u001b[0;34m[\u001b[0m\u001b[0mepoch\u001b[0m\u001b[0;34m]\u001b[0m\u001b[0;34m[\u001b[0m\u001b[0;36m1\u001b[0m\u001b[0;34m]\u001b[0m \u001b[0;34m=\u001b[0m \u001b[0mloss_value\u001b[0m\u001b[0;34m.\u001b[0m\u001b[0mdata\u001b[0m\u001b[0;34m.\u001b[0m\u001b[0mnumpy\u001b[0m\u001b[0;34m(\u001b[0m\u001b[0;34m)\u001b[0m\u001b[0;34m.\u001b[0m\u001b[0mtolist\u001b[0m\u001b[0;34m(\u001b[0m\u001b[0;34m)\u001b[0m\u001b[0;34m\u001b[0m\u001b[0;34m\u001b[0m\u001b[0m\n\u001b[1;32m     22\u001b[0m \u001b[0;34m\u001b[0m\u001b[0m\n\u001b[0;32m---> 23\u001b[0;31m         \u001b[0moptimizer\u001b[0m\u001b[0;34m.\u001b[0m\u001b[0mstep\u001b[0m\u001b[0;34m(\u001b[0m\u001b[0;34m)\u001b[0m\u001b[0;34m\u001b[0m\u001b[0;34m\u001b[0m\u001b[0m\n\u001b[0m\u001b[1;32m     24\u001b[0m \u001b[0;34m\u001b[0m\u001b[0m\n\u001b[1;32m     25\u001b[0m     \u001b[0;32mif\u001b[0m \u001b[0mepoch\u001b[0m \u001b[0;34m%\u001b[0m \u001b[0;36m100\u001b[0m \u001b[0;34m==\u001b[0m \u001b[0;36m0\u001b[0m\u001b[0;34m:\u001b[0m\u001b[0;34m\u001b[0m\u001b[0;34m\u001b[0m\u001b[0m\n",
            "\u001b[0;32m/usr/local/lib/python3.6/dist-packages/torch/autograd/grad_mode.py\u001b[0m in \u001b[0;36mdecorate_context\u001b[0;34m(*args, **kwargs)\u001b[0m\n\u001b[1;32m     13\u001b[0m         \u001b[0;32mdef\u001b[0m \u001b[0mdecorate_context\u001b[0m\u001b[0;34m(\u001b[0m\u001b[0;34m*\u001b[0m\u001b[0margs\u001b[0m\u001b[0;34m,\u001b[0m \u001b[0;34m**\u001b[0m\u001b[0mkwargs\u001b[0m\u001b[0;34m)\u001b[0m\u001b[0;34m:\u001b[0m\u001b[0;34m\u001b[0m\u001b[0;34m\u001b[0m\u001b[0m\n\u001b[1;32m     14\u001b[0m             \u001b[0;32mwith\u001b[0m \u001b[0mself\u001b[0m\u001b[0;34m:\u001b[0m\u001b[0;34m\u001b[0m\u001b[0;34m\u001b[0m\u001b[0m\n\u001b[0;32m---> 15\u001b[0;31m                 \u001b[0;32mreturn\u001b[0m \u001b[0mfunc\u001b[0m\u001b[0;34m(\u001b[0m\u001b[0;34m*\u001b[0m\u001b[0margs\u001b[0m\u001b[0;34m,\u001b[0m \u001b[0;34m**\u001b[0m\u001b[0mkwargs\u001b[0m\u001b[0;34m)\u001b[0m\u001b[0;34m\u001b[0m\u001b[0;34m\u001b[0m\u001b[0m\n\u001b[0m\u001b[1;32m     16\u001b[0m         \u001b[0;32mreturn\u001b[0m \u001b[0mdecorate_context\u001b[0m\u001b[0;34m\u001b[0m\u001b[0;34m\u001b[0m\u001b[0m\n\u001b[1;32m     17\u001b[0m \u001b[0;34m\u001b[0m\u001b[0m\n",
            "\u001b[0;32m/usr/local/lib/python3.6/dist-packages/torch/optim/adam.py\u001b[0m in \u001b[0;36mstep\u001b[0;34m(self, closure)\u001b[0m\n\u001b[1;32m    105\u001b[0m                     \u001b[0mdenom\u001b[0m \u001b[0;34m=\u001b[0m \u001b[0;34m(\u001b[0m\u001b[0mmax_exp_avg_sq\u001b[0m\u001b[0;34m.\u001b[0m\u001b[0msqrt\u001b[0m\u001b[0;34m(\u001b[0m\u001b[0;34m)\u001b[0m \u001b[0;34m/\u001b[0m \u001b[0mmath\u001b[0m\u001b[0;34m.\u001b[0m\u001b[0msqrt\u001b[0m\u001b[0;34m(\u001b[0m\u001b[0mbias_correction2\u001b[0m\u001b[0;34m)\u001b[0m\u001b[0;34m)\u001b[0m\u001b[0;34m.\u001b[0m\u001b[0madd_\u001b[0m\u001b[0;34m(\u001b[0m\u001b[0mgroup\u001b[0m\u001b[0;34m[\u001b[0m\u001b[0;34m'eps'\u001b[0m\u001b[0;34m]\u001b[0m\u001b[0;34m)\u001b[0m\u001b[0;34m\u001b[0m\u001b[0;34m\u001b[0m\u001b[0m\n\u001b[1;32m    106\u001b[0m                 \u001b[0;32melse\u001b[0m\u001b[0;34m:\u001b[0m\u001b[0;34m\u001b[0m\u001b[0;34m\u001b[0m\u001b[0m\n\u001b[0;32m--> 107\u001b[0;31m                     \u001b[0mdenom\u001b[0m \u001b[0;34m=\u001b[0m \u001b[0;34m(\u001b[0m\u001b[0mexp_avg_sq\u001b[0m\u001b[0;34m.\u001b[0m\u001b[0msqrt\u001b[0m\u001b[0;34m(\u001b[0m\u001b[0;34m)\u001b[0m \u001b[0;34m/\u001b[0m \u001b[0mmath\u001b[0m\u001b[0;34m.\u001b[0m\u001b[0msqrt\u001b[0m\u001b[0;34m(\u001b[0m\u001b[0mbias_correction2\u001b[0m\u001b[0;34m)\u001b[0m\u001b[0;34m)\u001b[0m\u001b[0;34m.\u001b[0m\u001b[0madd_\u001b[0m\u001b[0;34m(\u001b[0m\u001b[0mgroup\u001b[0m\u001b[0;34m[\u001b[0m\u001b[0;34m'eps'\u001b[0m\u001b[0;34m]\u001b[0m\u001b[0;34m)\u001b[0m\u001b[0;34m\u001b[0m\u001b[0;34m\u001b[0m\u001b[0m\n\u001b[0m\u001b[1;32m    108\u001b[0m \u001b[0;34m\u001b[0m\u001b[0m\n\u001b[1;32m    109\u001b[0m                 \u001b[0mstep_size\u001b[0m \u001b[0;34m=\u001b[0m \u001b[0mgroup\u001b[0m\u001b[0;34m[\u001b[0m\u001b[0;34m'lr'\u001b[0m\u001b[0;34m]\u001b[0m \u001b[0;34m/\u001b[0m \u001b[0mbias_correction1\u001b[0m\u001b[0;34m\u001b[0m\u001b[0;34m\u001b[0m\u001b[0m\n",
            "\u001b[0;31mKeyboardInterrupt\u001b[0m: "
          ]
        }
      ]
    },
    {
      "cell_type": "code",
      "metadata": {
        "id": "ex1h2lh0l6Nj",
        "outputId": "68eb47ac-4466-47a3-96ae-8cdfdf9d8660",
        "colab": {
          "base_uri": "https://localhost:8080/"
        }
      },
      "source": [
        "pr = bostonPrice_net.forward(X_test.float())\n",
        "pr.size()"
      ],
      "execution_count": 122,
      "outputs": [
        {
          "output_type": "execute_result",
          "data": {
            "text/plain": [
              "torch.Size([46, 1])"
            ]
          },
          "metadata": {
            "tags": []
          },
          "execution_count": 122
        }
      ]
    },
    {
      "cell_type": "code",
      "metadata": {
        "id": "Mt0Y7suHpCw7",
        "outputId": "e7ae2a4f-2789-4f1d-af94-bedd1c6e9cc4",
        "colab": {
          "base_uri": "https://localhost:8080/"
        }
      },
      "source": [
        "y_test.size()"
      ],
      "execution_count": 123,
      "outputs": [
        {
          "output_type": "execute_result",
          "data": {
            "text/plain": [
              "torch.Size([46, 1])"
            ]
          },
          "metadata": {
            "tags": []
          },
          "execution_count": 123
        }
      ]
    },
    {
      "cell_type": "code",
      "metadata": {
        "id": "4UwbJpTLnHd9",
        "outputId": "75781598-af98-45d6-9d99-444e1b3dd6eb",
        "colab": {
          "base_uri": "https://localhost:8080/"
        }
      },
      "source": [
        "\n",
        "loss(y_test,pr)"
      ],
      "execution_count": 124,
      "outputs": [
        {
          "output_type": "execute_result",
          "data": {
            "text/plain": [
              "tensor(11.4985, dtype=torch.float64, grad_fn=<MeanBackward0>)"
            ]
          },
          "metadata": {
            "tags": []
          },
          "execution_count": 124
        }
      ]
    },
    {
      "cell_type": "code",
      "metadata": {
        "id": "tP5PjFXUy7pU"
      },
      "source": [
        "plt.plot([row[0] for row in loss_history][100:], [row[1] for row in loss_history][100:])\n",
        "plt.title(label='Loss function')\n",
        "plt.xlabel('Epoch_index')\n",
        "plt.ylabel('Error');\n",
        "plt.show()"
      ],
      "execution_count": null,
      "outputs": []
    },
    {
      "cell_type": "code",
      "metadata": {
        "id": "1LZgSTH3qnRr",
        "outputId": "ead2f536-1dff-415a-9297-0b7e00691969",
        "colab": {
          "base_uri": "https://localhost:8080/",
          "height": 282
        }
      },
      "source": [
        "x = torch.zeros(y_train.size(0),1)\n",
        "for i in range(y_train.size(0)):\n",
        "    x[i] = i\n",
        "\n",
        "plt.plot(x.numpy(), y_train.detach().numpy())"
      ],
      "execution_count": null,
      "outputs": [
        {
          "output_type": "execute_result",
          "data": {
            "text/plain": [
              "[<matplotlib.lines.Line2D at 0x7f2dbfab41d0>]"
            ]
          },
          "metadata": {
            "tags": []
          },
          "execution_count": 58
        },
        {
          "output_type": "display_data",
          "data": {
            "image/png": "[encoded data removed]",
            "text/plain": [
              "<Figure size 432x288 with 1 Axes>"
            ]
          },
          "metadata": {
            "tags": [],
            "needs_background": "light"
          }
        }
      ]
    },
    {
      "cell_type": "code",
      "metadata": {
        "id": "IQ-KSq5hwriN"
      },
      "source": [
        "plt.plot(x.numpy(), X_train[:,12].detach().numpy(),'r')"
      ],
      "execution_count": null,
      "outputs": []
    }
  ]
}