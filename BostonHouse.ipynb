{
  "nbformat": 4,
  "nbformat_minor": 0,
  "metadata": {
    "colab": {
      "name": "BostonHouse.ipynb",
      "provenance": [],
      "collapsed_sections": [],
      "toc_visible": true,
      "authorship_tag": "ABX9TyN+DHnWPou+NNJyR0IYkoDi",
      "include_colab_link": true
    },
    "kernelspec": {
      "name": "python3",
      "display_name": "Python 3"
    },
    "accelerator": "GPU"
  },
  "cells": [
    {
      "cell_type": "markdown",
      "metadata": {
        "id": "view-in-github",
        "colab_type": "text"
      },
      "source": [
        "<a href=\"https://colab.research.google.com/github/IgorvH-Developer/ColaboratoryFailes/blob/main/BostonHouse.ipynb\" target=\"_parent\"><img src=\"https://colab.research.google.com/assets/colab-badge.svg\" alt=\"Open In Colab\"/></a>"
      ]
    },
    {
      "cell_type": "code",
      "metadata": {
        "id": "t-kddIogOIFh"
      },
      "source": [
        "import torch\n",
        "import random\n",
        "import pandas as  pd\n",
        "import numpy as np\n",
        "import matplotlib.pyplot as plt\n",
        "import seaborn as sns\n",
        "\n",
        "random.seed(0)\n",
        "np.random.seed(0)\n",
        "torch.manual_seed(0)\n",
        "torch.cuda.manual_seed(0)\n",
        "torch.backends.cudnn.deterministic = True\n",
        "\n",
        "from google.colab import drive\n"
      ],
      "execution_count": null,
      "outputs": []
    },
    {
      "cell_type": "code",
      "metadata": {
        "id": "EI8ROdRTQDiZ"
      },
      "source": [
        "device = torch.device(\"cuda\")"
      ],
      "execution_count": null,
      "outputs": []
    },
    {
      "cell_type": "code",
      "metadata": {
        "id": "XuwWrQYHP7wV",
        "colab": {
          "base_uri": "https://localhost:8080/"
        },
        "outputId": "2b364a19-6f0f-49f6-c801-38a1c967e09b"
      },
      "source": [
        "import sklearn.datasets\n",
        "boston = sklearn.datasets.load_boston()\n",
        "boston.data.shape"
      ],
      "execution_count": null,
      "outputs": [
        {
          "output_type": "execute_result",
          "data": {
            "text/plain": [
              "(506, 13)"
            ]
          },
          "metadata": {
            "tags": []
          },
          "execution_count": 4
        }
      ]
    },
    {
      "cell_type": "code",
      "metadata": {
        "id": "-nURNVQIebcb"
      },
      "source": [
        "X_train = torch.tensor(boston.data[0:460])\n",
        "y_train = torch.tensor(boston.target[0:460])\n",
        "X_test = torch.tensor(boston.data[460:506])\n",
        "y_test = torch.tensor(boston.target[460:506])"
      ],
      "execution_count": null,
      "outputs": []
    },
    {
      "cell_type": "code",
      "metadata": {
        "id": "34O5bc3hnszR"
      },
      "source": [
        "X_train.requires_grad_()\n",
        "y_train.requires_grad_()\n",
        "X_test.requires_grad_()\n",
        "y_test.requires_grad_()\n",
        "\n",
        "y_train = y_train.reshape(-1,1)\n",
        "y_test = y_test.reshape(-1,1);"
      ],
      "execution_count": null,
      "outputs": []
    },
    {
      "cell_type": "code",
      "metadata": {
        "id": "_x9CZ2T-iPQJ",
        "colab": {
          "base_uri": "https://localhost:8080/"
        },
        "outputId": "942d97a5-c3d6-4f1b-d4eb-432f2ccca4a8"
      },
      "source": [
        "y_test.size()"
      ],
      "execution_count": null,
      "outputs": [
        {
          "output_type": "execute_result",
          "data": {
            "text/plain": [
              "torch.Size([46, 1])"
            ]
          },
          "metadata": {
            "tags": []
          },
          "execution_count": 6
        }
      ]
    },
    {
      "cell_type": "code",
      "metadata": {
        "id": "YDixvKoAQG0Q"
      },
      "source": [
        "class GuessPrice(torch.nn.Module):\n",
        "    def __init__(self, n_hidden_neurons):\n",
        "        super(GuessPrice, self).__init__()\n",
        "        \n",
        "        self.fc1 = torch.nn.Linear(13, n_hidden_neurons)\n",
        "        self.activ1 = torch.nn.Sigmoid()\n",
        "        self.fc2 = torch.nn.Linear(n_hidden_neurons, n_hidden_neurons)\n",
        "        self.activ2 = torch.nn.Sigmoid()\n",
        "        self.fc5 = torch.nn.Linear(n_hidden_neurons, 1)\n",
        "        \n",
        "    def forward(self,x):\n",
        "        x = self.fc1(x)\n",
        "        x = self.activ1(x)\n",
        "        x = self.fc2(x)\n",
        "        x = self.activ2(x)\n",
        "        x = self.fc5(x)\n",
        "        return x\n",
        "\n",
        "    \n",
        "bostonPrice_net = GuessPrice(5)"
      ],
      "execution_count": null,
      "outputs": []
    },
    {
      "cell_type": "code",
      "metadata": {
        "id": "Q0MEUgb4QI0m"
      },
      "source": [
        "def loss(preds, target):\n",
        "    square = ((preds - target) ** 2).mean()\n",
        "    return square\n",
        "\n",
        "optimizer = torch.optim.Adam (bostonPrice_net.parameters(), \n",
        "                             lr=0.0005)\n"
      ],
      "execution_count": null,
      "outputs": []
    },
    {
      "cell_type": "code",
      "metadata": {
        "id": "783P7h9kQMQZ",
        "colab": {
          "base_uri": "https://localhost:8080/"
        },
        "outputId": "89aa8562-35e7-44f5-aca9-6fa4ede58e04"
      },
      "source": [
        "batch_size = 460\n",
        "loss_history = [[0,0] for i in range(50000)]\n",
        "metric_history = [[0,0] for i in range(50000)]\n",
        "\n",
        "for epoch in range(7700):\n",
        "    order = np.random.permutation(len(X_train))\n",
        "    for start_index in range(0, len(X_train), batch_size):\n",
        "        optimizer.zero_grad()\n",
        "        \n",
        "        batch_indexes = order[start_index:start_index+batch_size]\n",
        "        \n",
        "        x_batch = X_train[batch_indexes]\n",
        "        y_batch = y_train[batch_indexes]\n",
        "        \n",
        "        preds = bostonPrice_net.forward(x_batch.float()) \n",
        "        \n",
        "        loss_value = loss(preds, y_batch)\n",
        "        loss_value.backward()\n",
        "\n",
        "        loss_history[epoch][0] = epoch\n",
        "        loss_history[epoch][1] = loss_value.data.numpy().tolist()\n",
        "        metric_history[epoch][0] = epoch\n",
        "        test_preds = bostonPrice_net.forward(X_test.float())\n",
        "        metric_history[epoch][1] = (((test_preds - y_test) ** 2) ** 0.5).mean().detach().numpy().tolist()\n",
        "        \n",
        "        optimizer.step()\n",
        "        \n",
        "    if epoch % 100 == 0:\n",
        "        test_preds = bostonPrice_net.forward(X_test.float())\n",
        "        print(abs(test_preds - y_test).mean())\n",
        "        #print(loss( test_preds ,y_test))"
      ],
      "execution_count": null,
      "outputs": [
        {
          "output_type": "stream",
          "text": [
            "tensor(19.0374, dtype=torch.float64, grad_fn=<MeanBackward0>)\n",
            "tensor(18.7738, dtype=torch.float64, grad_fn=<MeanBackward0>)\n",
            "tensor(18.5503, dtype=torch.float64, grad_fn=<MeanBackward0>)\n",
            "tensor(18.3320, dtype=torch.float64, grad_fn=<MeanBackward0>)\n",
            "tensor(18.1108, dtype=torch.float64, grad_fn=<MeanBackward0>)\n",
            "tensor(17.8758, dtype=torch.float64, grad_fn=<MeanBackward0>)\n",
            "tensor(17.6274, dtype=torch.float64, grad_fn=<MeanBackward0>)\n",
            "tensor(17.3634, dtype=torch.float64, grad_fn=<MeanBackward0>)\n",
            "tensor(17.0851, dtype=torch.float64, grad_fn=<MeanBackward0>)\n",
            "tensor(16.7912, dtype=torch.float64, grad_fn=<MeanBackward0>)\n",
            "tensor(16.4808, dtype=torch.float64, grad_fn=<MeanBackward0>)\n",
            "tensor(16.1572, dtype=torch.float64, grad_fn=<MeanBackward0>)\n",
            "tensor(15.8281, dtype=torch.float64, grad_fn=<MeanBackward0>)\n",
            "tensor(15.5004, dtype=torch.float64, grad_fn=<MeanBackward0>)\n",
            "tensor(15.1780, dtype=torch.float64, grad_fn=<MeanBackward0>)\n",
            "tensor(14.8615, dtype=torch.float64, grad_fn=<MeanBackward0>)\n",
            "tensor(14.5493, dtype=torch.float64, grad_fn=<MeanBackward0>)\n",
            "tensor(14.2337, dtype=torch.float64, grad_fn=<MeanBackward0>)\n",
            "tensor(13.8901, dtype=torch.float64, grad_fn=<MeanBackward0>)\n",
            "tensor(13.4592, dtype=torch.float64, grad_fn=<MeanBackward0>)\n",
            "tensor(13.0670, dtype=torch.float64, grad_fn=<MeanBackward0>)\n",
            "tensor(12.6956, dtype=torch.float64, grad_fn=<MeanBackward0>)\n",
            "tensor(12.3381, dtype=torch.float64, grad_fn=<MeanBackward0>)\n",
            "tensor(12.0003, dtype=torch.float64, grad_fn=<MeanBackward0>)\n",
            "tensor(11.6838, dtype=torch.float64, grad_fn=<MeanBackward0>)\n",
            "tensor(11.3775, dtype=torch.float64, grad_fn=<MeanBackward0>)\n",
            "tensor(11.0799, dtype=torch.float64, grad_fn=<MeanBackward0>)\n",
            "tensor(10.8023, dtype=torch.float64, grad_fn=<MeanBackward0>)\n",
            "tensor(10.5311, dtype=torch.float64, grad_fn=<MeanBackward0>)\n",
            "tensor(10.2652, dtype=torch.float64, grad_fn=<MeanBackward0>)\n",
            "tensor(10.0038, dtype=torch.float64, grad_fn=<MeanBackward0>)\n",
            "tensor(9.7465, dtype=torch.float64, grad_fn=<MeanBackward0>)\n",
            "tensor(9.4928, dtype=torch.float64, grad_fn=<MeanBackward0>)\n",
            "tensor(9.2425, dtype=torch.float64, grad_fn=<MeanBackward0>)\n",
            "tensor(8.9951, dtype=torch.float64, grad_fn=<MeanBackward0>)\n",
            "tensor(8.7506, dtype=torch.float64, grad_fn=<MeanBackward0>)\n",
            "tensor(8.5086, dtype=torch.float64, grad_fn=<MeanBackward0>)\n",
            "tensor(8.2690, dtype=torch.float64, grad_fn=<MeanBackward0>)\n",
            "tensor(8.0318, dtype=torch.float64, grad_fn=<MeanBackward0>)\n",
            "tensor(7.7966, dtype=torch.float64, grad_fn=<MeanBackward0>)\n",
            "tensor(7.5653, dtype=torch.float64, grad_fn=<MeanBackward0>)\n",
            "tensor(7.3535, dtype=torch.float64, grad_fn=<MeanBackward0>)\n",
            "tensor(7.1461, dtype=torch.float64, grad_fn=<MeanBackward0>)\n",
            "tensor(6.9404, dtype=torch.float64, grad_fn=<MeanBackward0>)\n",
            "tensor(6.7363, dtype=torch.float64, grad_fn=<MeanBackward0>)\n",
            "tensor(6.5338, dtype=torch.float64, grad_fn=<MeanBackward0>)\n",
            "tensor(6.3384, dtype=torch.float64, grad_fn=<MeanBackward0>)\n",
            "tensor(6.1525, dtype=torch.float64, grad_fn=<MeanBackward0>)\n",
            "tensor(5.9802, dtype=torch.float64, grad_fn=<MeanBackward0>)\n",
            "tensor(5.8148, dtype=torch.float64, grad_fn=<MeanBackward0>)\n",
            "tensor(5.6507, dtype=torch.float64, grad_fn=<MeanBackward0>)\n",
            "tensor(5.4886, dtype=torch.float64, grad_fn=<MeanBackward0>)\n",
            "tensor(5.3372, dtype=torch.float64, grad_fn=<MeanBackward0>)\n",
            "tensor(5.1870, dtype=torch.float64, grad_fn=<MeanBackward0>)\n",
            "tensor(5.0426, dtype=torch.float64, grad_fn=<MeanBackward0>)\n",
            "tensor(4.9047, dtype=torch.float64, grad_fn=<MeanBackward0>)\n",
            "tensor(4.7679, dtype=torch.float64, grad_fn=<MeanBackward0>)\n",
            "tensor(4.6324, dtype=torch.float64, grad_fn=<MeanBackward0>)\n",
            "tensor(4.4981, dtype=torch.float64, grad_fn=<MeanBackward0>)\n",
            "tensor(4.3658, dtype=torch.float64, grad_fn=<MeanBackward0>)\n",
            "tensor(4.2434, dtype=torch.float64, grad_fn=<MeanBackward0>)\n",
            "tensor(4.1309, dtype=torch.float64, grad_fn=<MeanBackward0>)\n",
            "tensor(4.0294, dtype=torch.float64, grad_fn=<MeanBackward0>)\n",
            "tensor(3.9290, dtype=torch.float64, grad_fn=<MeanBackward0>)\n",
            "tensor(3.8297, dtype=torch.float64, grad_fn=<MeanBackward0>)\n",
            "tensor(3.7396, dtype=torch.float64, grad_fn=<MeanBackward0>)\n",
            "tensor(3.6635, dtype=torch.float64, grad_fn=<MeanBackward0>)\n",
            "tensor(3.5834, dtype=torch.float64, grad_fn=<MeanBackward0>)\n",
            "tensor(3.5059, dtype=torch.float64, grad_fn=<MeanBackward0>)\n",
            "tensor(3.4375, dtype=torch.float64, grad_fn=<MeanBackward0>)\n",
            "tensor(3.3707, dtype=torch.float64, grad_fn=<MeanBackward0>)\n",
            "tensor(3.3049, dtype=torch.float64, grad_fn=<MeanBackward0>)\n",
            "tensor(3.2403, dtype=torch.float64, grad_fn=<MeanBackward0>)\n",
            "tensor(3.1943, dtype=torch.float64, grad_fn=<MeanBackward0>)\n",
            "tensor(3.1556, dtype=torch.float64, grad_fn=<MeanBackward0>)\n",
            "tensor(3.1219, dtype=torch.float64, grad_fn=<MeanBackward0>)\n",
            "tensor(3.1028, dtype=torch.float64, grad_fn=<MeanBackward0>)\n"
          ],
          "name": "stdout"
        }
      ]
    },
    {
      "cell_type": "code",
      "metadata": {
        "id": "ex1h2lh0l6Nj",
        "colab": {
          "base_uri": "https://localhost:8080/"
        },
        "outputId": "eb6784ab-47c3-4b9f-9f0f-7a7c20dc363f"
      },
      "source": [
        "pr = bostonPrice_net.forward(X_test.float())\n",
        "pr.size()"
      ],
      "execution_count": null,
      "outputs": [
        {
          "output_type": "execute_result",
          "data": {
            "text/plain": [
              "torch.Size([46, 1])"
            ]
          },
          "metadata": {
            "tags": []
          },
          "execution_count": 13
        }
      ]
    },
    {
      "cell_type": "code",
      "metadata": {
        "id": "Mt0Y7suHpCw7"
      },
      "source": [
        "y_test;"
      ],
      "execution_count": null,
      "outputs": []
    },
    {
      "cell_type": "code",
      "metadata": {
        "id": "4UwbJpTLnHd9",
        "colab": {
          "base_uri": "https://localhost:8080/"
        },
        "outputId": "a3e7af5e-4d24-4f6b-ff55-bc8d6c41f77a"
      },
      "source": [
        "loss(y_test,pr)\n",
        "#pr - y_test"
      ],
      "execution_count": null,
      "outputs": [
        {
          "output_type": "execute_result",
          "data": {
            "text/plain": [
              "tensor(19.1097, dtype=torch.float64, grad_fn=<MeanBackward0>)"
            ]
          },
          "metadata": {
            "tags": []
          },
          "execution_count": 15
        }
      ]
    },
    {
      "cell_type": "code",
      "metadata": {
        "id": "tP5PjFXUy7pU",
        "colab": {
          "base_uri": "https://localhost:8080/",
          "height": 296
        },
        "outputId": "91acdfdf-f0cf-4aa5-f552-20f1235c8f11"
      },
      "source": [
        "plt.plot([row[0] for row in loss_history][1000:], [row[1] for row in loss_history][1000:])\n",
        "plt.title(label='Loss function')\n",
        "plt.xlabel('Epoch_index')\n",
        "plt.ylabel('Error');\n",
        "plt.show()"
      ],
      "execution_count": null,
      "outputs": [
        {
          "output_type": "display_data",
          "data": {
            "image/png": "[encoded data removed]",
            "text/plain": [
              "<Figure size 432x288 with 1 Axes>"
            ]
          },
          "metadata": {
            "tags": [],
            "needs_background": "light"
          }
        }
      ]
    },
    {
      "cell_type": "code",
      "metadata": {
        "id": "4eS23PVhrqGv",
        "colab": {
          "base_uri": "https://localhost:8080/",
          "height": 296
        },
        "outputId": "e0356876-dc05-4a15-a941-304464e1eb18"
      },
      "source": [
        "plt.plot([row[0] for row in metric_history][3000:12000], [row[1] for row in metric_history][3000:12000])\n",
        "plt.title(label='Metric')\n",
        "plt.xlabel('Epoch_index')\n",
        "plt.ylabel('Error');\n",
        "plt.show()"
      ],
      "execution_count": null,
      "outputs": [
        {
          "output_type": "display_data",
          "data": {
            "image/png": "[encoded data removed]",
            "text/plain": [
              "<Figure size 432x288 with 1 Axes>"
            ]
          },
          "metadata": {
            "tags": [],
            "needs_background": "light"
          }
        }
      ]
    }
  ]
}