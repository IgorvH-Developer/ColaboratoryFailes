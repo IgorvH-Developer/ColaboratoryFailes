{
  "nbformat": 4,
  "nbformat_minor": 0,
  "metadata": {
    "colab": {
      "name": "BostonHouse.ipynb",
      "provenance": [],
      "collapsed_sections": [],
      "toc_visible": true,
      "authorship_tag": "ABX9TyOaKcqyokrTjW898DPJ2l/f",
      "include_colab_link": true
    },
    "kernelspec": {
      "name": "python3",
      "display_name": "Python 3"
    },
    "accelerator": "GPU"
  },
  "cells": [
    {
      "cell_type": "markdown",
      "metadata": {
        "id": "view-in-github",
        "colab_type": "text"
      },
      "source": [
        "<a href=\"https://colab.research.google.com/github/IgorvH-Developer/ColaboratoryFailes/blob/main/BostonHouse.ipynb\" target=\"_parent\"><img src=\"https://colab.research.google.com/assets/colab-badge.svg\" alt=\"Open In Colab\"/></a>"
      ]
    },
    {
      "cell_type": "code",
      "metadata": {
        "id": "t-kddIogOIFh"
      },
      "source": [
        "import torch\n",
        "import random\n",
        "import numpy as np\n",
        "import matplotlib.pyplot as plt\n",
        "\n",
        "random.seed(0)\n",
        "np.random.seed(0)\n",
        "torch.manual_seed(0)\n",
        "torch.cuda.manual_seed(0)\n",
        "torch.backends.cudnn.deterministic = True\n",
        "\n",
        "from google.colab import drive\n"
      ],
      "execution_count": 19,
      "outputs": []
    },
    {
      "cell_type": "code",
      "metadata": {
        "id": "EI8ROdRTQDiZ"
      },
      "source": [
        "device = torch.device(\"cuda\")"
      ],
      "execution_count": 20,
      "outputs": []
    },
    {
      "cell_type": "code",
      "metadata": {
        "id": "XuwWrQYHP7wV",
        "outputId": "d623198c-e8ed-4e68-d811-507767d42875",
        "colab": {
          "base_uri": "https://localhost:8080/"
        }
      },
      "source": [
        "import sklearn.datasets\n",
        "boston = sklearn.datasets.load_boston()\n",
        "boston.data.shape"
      ],
      "execution_count": 21,
      "outputs": [
        {
          "output_type": "execute_result",
          "data": {
            "text/plain": [
              "(506, 13)"
            ]
          },
          "metadata": {
            "tags": []
          },
          "execution_count": 21
        }
      ]
    },
    {
      "cell_type": "code",
      "metadata": {
        "id": "-nURNVQIebcb"
      },
      "source": [
        "X_train = torch.tensor(boston.data[0:506])\n",
        "y_train = torch.tensor(boston.target[0:506])\n",
        "X_test = torch.tensor(boston.data[460:506])\n",
        "y_test = torch.tensor(boston.target[460:506])"
      ],
      "execution_count": 22,
      "outputs": []
    },
    {
      "cell_type": "code",
      "metadata": {
        "id": "34O5bc3hnszR"
      },
      "source": [
        "X_train.requires_grad_()\n",
        "y_train.requires_grad_()\n",
        "X_test.requires_grad_()\n",
        "y_test.requires_grad_()\n",
        "\n",
        "y_train = y_train.reshape(-1,1)\n",
        "y_test = y_test.reshape(-1,1);"
      ],
      "execution_count": 23,
      "outputs": []
    },
    {
      "cell_type": "code",
      "metadata": {
        "id": "g35hOkNY4pKt",
        "outputId": "f99d6e27-02fe-48b7-d020-dc7ff444f2ca",
        "colab": {
          "base_uri": "https://localhost:8080/"
        }
      },
      "source": [
        "a= X_train[:,5]\n",
        "b = X_train[:,12]\n",
        "c= X_test[:,5]\n",
        "d = X_test[:,12]\n",
        "newX_train = torch.ones(a.size(0),2)\n",
        "newX_test = torch.ones(c.size(0),2)\n",
        "\n",
        "newX_train[:,0] = a\n",
        "newX_train[:,1] = b\n",
        "newX_train.requires_grad_\n",
        "newX_test[:,0] = c\n",
        "newX_test[:,1] = d\n",
        "newX_test.requires_grad_\n",
        "newX_test.size()"
      ],
      "execution_count": 24,
      "outputs": [
        {
          "output_type": "execute_result",
          "data": {
            "text/plain": [
              "torch.Size([46, 2])"
            ]
          },
          "metadata": {
            "tags": []
          },
          "execution_count": 24
        }
      ]
    },
    {
      "cell_type": "code",
      "metadata": {
        "id": "_x9CZ2T-iPQJ",
        "outputId": "df6e3322-f5db-461f-d5c1-923fd6efca95",
        "colab": {
          "base_uri": "https://localhost:8080/"
        }
      },
      "source": [
        "y_test.size()"
      ],
      "execution_count": 25,
      "outputs": [
        {
          "output_type": "execute_result",
          "data": {
            "text/plain": [
              "torch.Size([46, 1])"
            ]
          },
          "metadata": {
            "tags": []
          },
          "execution_count": 25
        }
      ]
    },
    {
      "cell_type": "code",
      "metadata": {
        "id": "YDixvKoAQG0Q"
      },
      "source": [
        "class GuessPrice(torch.nn.Module):\n",
        "    def __init__(self, n_hidden_neurons):\n",
        "        super(GuessPrice, self).__init__()\n",
        "        \n",
        "        self.fc1 = torch.nn.Linear(13, n_hidden_neurons)\n",
        "        self.activ1 = torch.nn.ELU()\n",
        "        self.fc2 = torch.nn.Linear(n_hidden_neurons, n_hidden_neurons)\n",
        "        self.activ2 = torch.nn.ELU()\n",
        "        self.fc3 = torch.nn.Linear(n_hidden_neurons, n_hidden_neurons)\n",
        "        self.activ3 = torch.nn.ELU()\n",
        "        self.fc4 = torch.nn.Linear(n_hidden_neurons, n_hidden_neurons)\n",
        "        self.activ4 = torch.nn.ELU()\n",
        "        self.fc5 = torch.nn.Linear(n_hidden_neurons, 1)\n",
        "        \n",
        "    def forward(self,x):\n",
        "        x = self.fc1(x)\n",
        "        x = self.activ1(x)\n",
        "        x = self.fc2(x)\n",
        "        x = self.activ2(x)\n",
        "        x = self.fc3(x)\n",
        "        x = self.activ3(x)\n",
        "        x = self.fc5(x)\n",
        "        return x\n",
        "\n",
        "    \n",
        "bostonPrice_net = GuessPrice(5)"
      ],
      "execution_count": 26,
      "outputs": []
    },
    {
      "cell_type": "code",
      "metadata": {
        "id": "Q0MEUgb4QI0m"
      },
      "source": [
        "def loss(preds, target):\n",
        "    square = ((preds - target) ** 2).mean()\n",
        "    return square\n",
        "\n",
        "optimizer = torch.optim.Adam (bostonPrice_net.parameters(), \n",
        "                             lr=0.0005)\n"
      ],
      "execution_count": 28,
      "outputs": []
    },
    {
      "cell_type": "code",
      "metadata": {
        "id": "783P7h9kQMQZ",
        "outputId": "663d2b47-c9e5-4d1a-ab75-b9c06ee3db72",
        "colab": {
          "base_uri": "https://localhost:8080/"
        }
      },
      "source": [
        "batch_size = 506\n",
        "loss_history = [[0,0] for i in range(50000)]\n",
        "\n",
        "for epoch in range(50000):\n",
        "    order = np.random.permutation(len(X_train))\n",
        "    for start_index in range(0, len(X_train), batch_size):\n",
        "        optimizer.zero_grad()\n",
        "        \n",
        "        batch_indexes = order[start_index:start_index+batch_size]\n",
        "        \n",
        "        x_batch = X_train[batch_indexes]\n",
        "        y_batch = y_train[batch_indexes]\n",
        "        \n",
        "        preds = bostonPrice_net.forward(x_batch.float()) \n",
        "        \n",
        "        loss_value = loss(preds, y_batch)\n",
        "        #print(loss_value)\n",
        "        loss_value.backward()\n",
        "\n",
        "        loss_history[epoch][0] = epoch\n",
        "        loss_history[epoch][1] = loss_value.data.numpy().tolist()\n",
        "        \n",
        "        optimizer.step()\n",
        "        \n",
        "    if epoch % 100 == 0:\n",
        "        test_preds = bostonPrice_net.forward(X_train.float())\n",
        "        #print(((test_preds - y_train) ** 2).mean())\n",
        "        print(loss( test_preds ,y_train))"
      ],
      "execution_count": 29,
      "outputs": [
        {
          "output_type": "stream",
          "text": [
            "tensor(620.5443, dtype=torch.float64, grad_fn=<MeanBackward0>)\n",
            "tensor(561.4716, dtype=torch.float64, grad_fn=<MeanBackward0>)\n",
            "tensor(548.7044, dtype=torch.float64, grad_fn=<MeanBackward0>)\n",
            "tensor(528.9289, dtype=torch.float64, grad_fn=<MeanBackward0>)\n",
            "tensor(460.8811, dtype=torch.float64, grad_fn=<MeanBackward0>)\n",
            "tensor(89.3780, dtype=torch.float64, grad_fn=<MeanBackward0>)\n",
            "tensor(77.8674, dtype=torch.float64, grad_fn=<MeanBackward0>)\n",
            "tensor(70.4842, dtype=torch.float64, grad_fn=<MeanBackward0>)\n",
            "tensor(65.9292, dtype=torch.float64, grad_fn=<MeanBackward0>)\n",
            "tensor(63.4922, dtype=torch.float64, grad_fn=<MeanBackward0>)\n",
            "tensor(62.1318, dtype=torch.float64, grad_fn=<MeanBackward0>)\n",
            "tensor(61.0973, dtype=torch.float64, grad_fn=<MeanBackward0>)\n",
            "tensor(60.1917, dtype=torch.float64, grad_fn=<MeanBackward0>)\n",
            "tensor(59.3633, dtype=torch.float64, grad_fn=<MeanBackward0>)\n",
            "tensor(58.5114, dtype=torch.float64, grad_fn=<MeanBackward0>)\n",
            "tensor(57.6026, dtype=torch.float64, grad_fn=<MeanBackward0>)\n",
            "tensor(56.6802, dtype=torch.float64, grad_fn=<MeanBackward0>)\n",
            "tensor(55.7915, dtype=torch.float64, grad_fn=<MeanBackward0>)\n",
            "tensor(54.9376, dtype=torch.float64, grad_fn=<MeanBackward0>)\n",
            "tensor(54.0577, dtype=torch.float64, grad_fn=<MeanBackward0>)\n",
            "tensor(53.1118, dtype=torch.float64, grad_fn=<MeanBackward0>)\n",
            "tensor(52.0933, dtype=torch.float64, grad_fn=<MeanBackward0>)\n",
            "tensor(50.9750, dtype=torch.float64, grad_fn=<MeanBackward0>)\n",
            "tensor(49.6993, dtype=torch.float64, grad_fn=<MeanBackward0>)\n",
            "tensor(48.2319, dtype=torch.float64, grad_fn=<MeanBackward0>)\n",
            "tensor(46.5195, dtype=torch.float64, grad_fn=<MeanBackward0>)\n",
            "tensor(44.5342, dtype=torch.float64, grad_fn=<MeanBackward0>)\n",
            "tensor(42.2469, dtype=torch.float64, grad_fn=<MeanBackward0>)\n",
            "tensor(39.6141, dtype=torch.float64, grad_fn=<MeanBackward0>)\n",
            "tensor(36.7378, dtype=torch.float64, grad_fn=<MeanBackward0>)\n",
            "tensor(32.7310, dtype=torch.float64, grad_fn=<MeanBackward0>)\n",
            "tensor(29.3991, dtype=torch.float64, grad_fn=<MeanBackward0>)\n",
            "tensor(26.6753, dtype=torch.float64, grad_fn=<MeanBackward0>)\n",
            "tensor(24.4280, dtype=torch.float64, grad_fn=<MeanBackward0>)\n",
            "tensor(22.8138, dtype=torch.float64, grad_fn=<MeanBackward0>)\n",
            "tensor(21.6323, dtype=torch.float64, grad_fn=<MeanBackward0>)\n",
            "tensor(20.7748, dtype=torch.float64, grad_fn=<MeanBackward0>)\n",
            "tensor(20.0058, dtype=torch.float64, grad_fn=<MeanBackward0>)\n",
            "tensor(19.4403, dtype=torch.float64, grad_fn=<MeanBackward0>)\n",
            "tensor(18.9562, dtype=torch.float64, grad_fn=<MeanBackward0>)\n",
            "tensor(18.5538, dtype=torch.float64, grad_fn=<MeanBackward0>)\n",
            "tensor(18.1624, dtype=torch.float64, grad_fn=<MeanBackward0>)\n",
            "tensor(17.7843, dtype=torch.float64, grad_fn=<MeanBackward0>)\n",
            "tensor(17.4403, dtype=torch.float64, grad_fn=<MeanBackward0>)\n",
            "tensor(17.0665, dtype=torch.float64, grad_fn=<MeanBackward0>)\n",
            "tensor(16.7204, dtype=torch.float64, grad_fn=<MeanBackward0>)\n",
            "tensor(16.3873, dtype=torch.float64, grad_fn=<MeanBackward0>)\n",
            "tensor(16.0540, dtype=torch.float64, grad_fn=<MeanBackward0>)\n",
            "tensor(15.7280, dtype=torch.float64, grad_fn=<MeanBackward0>)\n",
            "tensor(15.4034, dtype=torch.float64, grad_fn=<MeanBackward0>)\n",
            "tensor(15.0529, dtype=torch.float64, grad_fn=<MeanBackward0>)\n",
            "tensor(14.7411, dtype=torch.float64, grad_fn=<MeanBackward0>)\n",
            "tensor(14.5031, dtype=torch.float64, grad_fn=<MeanBackward0>)\n",
            "tensor(14.2963, dtype=torch.float64, grad_fn=<MeanBackward0>)\n",
            "tensor(14.1252, dtype=torch.float64, grad_fn=<MeanBackward0>)\n",
            "tensor(13.9760, dtype=torch.float64, grad_fn=<MeanBackward0>)\n",
            "tensor(13.8400, dtype=torch.float64, grad_fn=<MeanBackward0>)\n",
            "tensor(13.7097, dtype=torch.float64, grad_fn=<MeanBackward0>)\n",
            "tensor(13.5794, dtype=torch.float64, grad_fn=<MeanBackward0>)\n",
            "tensor(13.4423, dtype=torch.float64, grad_fn=<MeanBackward0>)\n",
            "tensor(13.2755, dtype=torch.float64, grad_fn=<MeanBackward0>)\n",
            "tensor(13.1110, dtype=torch.float64, grad_fn=<MeanBackward0>)\n",
            "tensor(12.9570, dtype=torch.float64, grad_fn=<MeanBackward0>)\n",
            "tensor(12.8028, dtype=torch.float64, grad_fn=<MeanBackward0>)\n",
            "tensor(12.6405, dtype=torch.float64, grad_fn=<MeanBackward0>)\n",
            "tensor(12.4822, dtype=torch.float64, grad_fn=<MeanBackward0>)\n",
            "tensor(12.3326, dtype=torch.float64, grad_fn=<MeanBackward0>)\n",
            "tensor(12.2000, dtype=torch.float64, grad_fn=<MeanBackward0>)\n",
            "tensor(12.0934, dtype=torch.float64, grad_fn=<MeanBackward0>)\n",
            "tensor(12.0100, dtype=torch.float64, grad_fn=<MeanBackward0>)\n",
            "tensor(11.9231, dtype=torch.float64, grad_fn=<MeanBackward0>)\n",
            "tensor(11.8082, dtype=torch.float64, grad_fn=<MeanBackward0>)\n",
            "tensor(11.6407, dtype=torch.float64, grad_fn=<MeanBackward0>)\n",
            "tensor(10.8747, dtype=torch.float64, grad_fn=<MeanBackward0>)\n",
            "tensor(10.4045, dtype=torch.float64, grad_fn=<MeanBackward0>)\n",
            "tensor(10.1225, dtype=torch.float64, grad_fn=<MeanBackward0>)\n",
            "tensor(9.9084, dtype=torch.float64, grad_fn=<MeanBackward0>)\n",
            "tensor(9.7486, dtype=torch.float64, grad_fn=<MeanBackward0>)\n",
            "tensor(9.6185, dtype=torch.float64, grad_fn=<MeanBackward0>)\n",
            "tensor(9.4904, dtype=torch.float64, grad_fn=<MeanBackward0>)\n",
            "tensor(9.3839, dtype=torch.float64, grad_fn=<MeanBackward0>)\n",
            "tensor(9.2886, dtype=torch.float64, grad_fn=<MeanBackward0>)\n",
            "tensor(9.1855, dtype=torch.float64, grad_fn=<MeanBackward0>)\n",
            "tensor(9.0291, dtype=torch.float64, grad_fn=<MeanBackward0>)\n",
            "tensor(8.8579, dtype=torch.float64, grad_fn=<MeanBackward0>)\n",
            "tensor(8.6660, dtype=torch.float64, grad_fn=<MeanBackward0>)\n",
            "tensor(8.5534, dtype=torch.float64, grad_fn=<MeanBackward0>)\n",
            "tensor(8.4740, dtype=torch.float64, grad_fn=<MeanBackward0>)\n",
            "tensor(8.4100, dtype=torch.float64, grad_fn=<MeanBackward0>)\n",
            "tensor(8.3516, dtype=torch.float64, grad_fn=<MeanBackward0>)\n",
            "tensor(8.3047, dtype=torch.float64, grad_fn=<MeanBackward0>)\n",
            "tensor(8.2282, dtype=torch.float64, grad_fn=<MeanBackward0>)\n",
            "tensor(8.1178, dtype=torch.float64, grad_fn=<MeanBackward0>)\n",
            "tensor(8.0222, dtype=torch.float64, grad_fn=<MeanBackward0>)\n",
            "tensor(7.9552, dtype=torch.float64, grad_fn=<MeanBackward0>)\n",
            "tensor(7.8970, dtype=torch.float64, grad_fn=<MeanBackward0>)\n",
            "tensor(7.8510, dtype=torch.float64, grad_fn=<MeanBackward0>)\n",
            "tensor(7.8125, dtype=torch.float64, grad_fn=<MeanBackward0>)\n",
            "tensor(7.7781, dtype=torch.float64, grad_fn=<MeanBackward0>)\n",
            "tensor(7.7486, dtype=torch.float64, grad_fn=<MeanBackward0>)\n",
            "tensor(7.7187, dtype=torch.float64, grad_fn=<MeanBackward0>)\n",
            "tensor(7.7540, dtype=torch.float64, grad_fn=<MeanBackward0>)\n",
            "tensor(7.6641, dtype=torch.float64, grad_fn=<MeanBackward0>)\n",
            "tensor(7.6380, dtype=torch.float64, grad_fn=<MeanBackward0>)\n",
            "tensor(7.6072, dtype=torch.float64, grad_fn=<MeanBackward0>)\n",
            "tensor(7.5764, dtype=torch.float64, grad_fn=<MeanBackward0>)\n",
            "tensor(7.5415, dtype=torch.float64, grad_fn=<MeanBackward0>)\n",
            "tensor(7.5164, dtype=torch.float64, grad_fn=<MeanBackward0>)\n",
            "tensor(7.4874, dtype=torch.float64, grad_fn=<MeanBackward0>)\n",
            "tensor(7.4634, dtype=torch.float64, grad_fn=<MeanBackward0>)\n",
            "tensor(7.4376, dtype=torch.float64, grad_fn=<MeanBackward0>)\n",
            "tensor(7.4215, dtype=torch.float64, grad_fn=<MeanBackward0>)\n",
            "tensor(7.3932, dtype=torch.float64, grad_fn=<MeanBackward0>)\n",
            "tensor(7.3676, dtype=torch.float64, grad_fn=<MeanBackward0>)\n",
            "tensor(7.3451, dtype=torch.float64, grad_fn=<MeanBackward0>)\n",
            "tensor(7.3217, dtype=torch.float64, grad_fn=<MeanBackward0>)\n",
            "tensor(7.2993, dtype=torch.float64, grad_fn=<MeanBackward0>)\n",
            "tensor(7.2786, dtype=torch.float64, grad_fn=<MeanBackward0>)\n",
            "tensor(7.2580, dtype=torch.float64, grad_fn=<MeanBackward0>)\n",
            "tensor(7.2386, dtype=torch.float64, grad_fn=<MeanBackward0>)\n",
            "tensor(7.2188, dtype=torch.float64, grad_fn=<MeanBackward0>)\n",
            "tensor(7.2047, dtype=torch.float64, grad_fn=<MeanBackward0>)\n",
            "tensor(7.1781, dtype=torch.float64, grad_fn=<MeanBackward0>)\n",
            "tensor(7.1567, dtype=torch.float64, grad_fn=<MeanBackward0>)\n",
            "tensor(7.1370, dtype=torch.float64, grad_fn=<MeanBackward0>)\n",
            "tensor(7.1156, dtype=torch.float64, grad_fn=<MeanBackward0>)\n",
            "tensor(7.0955, dtype=torch.float64, grad_fn=<MeanBackward0>)\n",
            "tensor(7.0772, dtype=torch.float64, grad_fn=<MeanBackward0>)\n",
            "tensor(7.0594, dtype=torch.float64, grad_fn=<MeanBackward0>)\n",
            "tensor(7.0427, dtype=torch.float64, grad_fn=<MeanBackward0>)\n",
            "tensor(7.0267, dtype=torch.float64, grad_fn=<MeanBackward0>)\n",
            "tensor(7.0117, dtype=torch.float64, grad_fn=<MeanBackward0>)\n",
            "tensor(6.9977, dtype=torch.float64, grad_fn=<MeanBackward0>)\n",
            "tensor(7.0231, dtype=torch.float64, grad_fn=<MeanBackward0>)\n",
            "tensor(6.9711, dtype=torch.float64, grad_fn=<MeanBackward0>)\n",
            "tensor(6.9585, dtype=torch.float64, grad_fn=<MeanBackward0>)\n",
            "tensor(6.9469, dtype=torch.float64, grad_fn=<MeanBackward0>)\n",
            "tensor(6.9340, dtype=torch.float64, grad_fn=<MeanBackward0>)\n",
            "tensor(6.9225, dtype=torch.float64, grad_fn=<MeanBackward0>)\n",
            "tensor(6.9106, dtype=torch.float64, grad_fn=<MeanBackward0>)\n",
            "tensor(6.9098, dtype=torch.float64, grad_fn=<MeanBackward0>)\n",
            "tensor(6.8882, dtype=torch.float64, grad_fn=<MeanBackward0>)\n",
            "tensor(6.8772, dtype=torch.float64, grad_fn=<MeanBackward0>)\n",
            "tensor(6.8667, dtype=torch.float64, grad_fn=<MeanBackward0>)\n",
            "tensor(6.8625, dtype=torch.float64, grad_fn=<MeanBackward0>)\n",
            "tensor(6.8462, dtype=torch.float64, grad_fn=<MeanBackward0>)\n",
            "tensor(6.8359, dtype=torch.float64, grad_fn=<MeanBackward0>)\n",
            "tensor(6.8230, dtype=torch.float64, grad_fn=<MeanBackward0>)\n",
            "tensor(6.8087, dtype=torch.float64, grad_fn=<MeanBackward0>)\n",
            "tensor(6.7921, dtype=torch.float64, grad_fn=<MeanBackward0>)\n",
            "tensor(6.8023, dtype=torch.float64, grad_fn=<MeanBackward0>)\n",
            "tensor(6.7637, dtype=torch.float64, grad_fn=<MeanBackward0>)\n",
            "tensor(6.7522, dtype=torch.float64, grad_fn=<MeanBackward0>)\n",
            "tensor(6.7343, dtype=torch.float64, grad_fn=<MeanBackward0>)\n",
            "tensor(6.6917, dtype=torch.float64, grad_fn=<MeanBackward0>)\n",
            "tensor(6.6757, dtype=torch.float64, grad_fn=<MeanBackward0>)\n",
            "tensor(6.6632, dtype=torch.float64, grad_fn=<MeanBackward0>)\n",
            "tensor(6.6528, dtype=torch.float64, grad_fn=<MeanBackward0>)\n",
            "tensor(6.6409, dtype=torch.float64, grad_fn=<MeanBackward0>)\n",
            "tensor(6.6269, dtype=torch.float64, grad_fn=<MeanBackward0>)\n",
            "tensor(6.6098, dtype=torch.float64, grad_fn=<MeanBackward0>)\n",
            "tensor(6.5970, dtype=torch.float64, grad_fn=<MeanBackward0>)\n",
            "tensor(6.5842, dtype=torch.float64, grad_fn=<MeanBackward0>)\n",
            "tensor(6.5712, dtype=torch.float64, grad_fn=<MeanBackward0>)\n",
            "tensor(6.5677, dtype=torch.float64, grad_fn=<MeanBackward0>)\n",
            "tensor(6.5475, dtype=torch.float64, grad_fn=<MeanBackward0>)\n",
            "tensor(6.5477, dtype=torch.float64, grad_fn=<MeanBackward0>)\n",
            "tensor(6.5265, dtype=torch.float64, grad_fn=<MeanBackward0>)\n",
            "tensor(6.5179, dtype=torch.float64, grad_fn=<MeanBackward0>)\n",
            "tensor(6.5082, dtype=torch.float64, grad_fn=<MeanBackward0>)\n",
            "tensor(6.4996, dtype=torch.float64, grad_fn=<MeanBackward0>)\n",
            "tensor(6.4908, dtype=torch.float64, grad_fn=<MeanBackward0>)\n",
            "tensor(6.4819, dtype=torch.float64, grad_fn=<MeanBackward0>)\n",
            "tensor(6.4724, dtype=torch.float64, grad_fn=<MeanBackward0>)\n",
            "tensor(6.4613, dtype=torch.float64, grad_fn=<MeanBackward0>)\n",
            "tensor(6.4510, dtype=torch.float64, grad_fn=<MeanBackward0>)\n",
            "tensor(6.4408, dtype=torch.float64, grad_fn=<MeanBackward0>)\n",
            "tensor(6.4297, dtype=torch.float64, grad_fn=<MeanBackward0>)\n",
            "tensor(6.4183, dtype=torch.float64, grad_fn=<MeanBackward0>)\n",
            "tensor(6.4058, dtype=torch.float64, grad_fn=<MeanBackward0>)\n",
            "tensor(6.3928, dtype=torch.float64, grad_fn=<MeanBackward0>)\n",
            "tensor(6.3789, dtype=torch.float64, grad_fn=<MeanBackward0>)\n",
            "tensor(6.3665, dtype=torch.float64, grad_fn=<MeanBackward0>)\n",
            "tensor(6.3541, dtype=torch.float64, grad_fn=<MeanBackward0>)\n",
            "tensor(6.3444, dtype=torch.float64, grad_fn=<MeanBackward0>)\n",
            "tensor(6.3318, dtype=torch.float64, grad_fn=<MeanBackward0>)\n",
            "tensor(6.3222, dtype=torch.float64, grad_fn=<MeanBackward0>)\n",
            "tensor(6.3184, dtype=torch.float64, grad_fn=<MeanBackward0>)\n",
            "tensor(6.3071, dtype=torch.float64, grad_fn=<MeanBackward0>)\n",
            "tensor(6.2932, dtype=torch.float64, grad_fn=<MeanBackward0>)\n",
            "tensor(6.2820, dtype=torch.float64, grad_fn=<MeanBackward0>)\n",
            "tensor(6.2722, dtype=torch.float64, grad_fn=<MeanBackward0>)\n",
            "tensor(6.2486, dtype=torch.float64, grad_fn=<MeanBackward0>)\n",
            "tensor(6.2411, dtype=torch.float64, grad_fn=<MeanBackward0>)\n",
            "tensor(6.2274, dtype=torch.float64, grad_fn=<MeanBackward0>)\n",
            "tensor(6.2176, dtype=torch.float64, grad_fn=<MeanBackward0>)\n",
            "tensor(6.2098, dtype=torch.float64, grad_fn=<MeanBackward0>)\n",
            "tensor(6.2025, dtype=torch.float64, grad_fn=<MeanBackward0>)\n",
            "tensor(6.1954, dtype=torch.float64, grad_fn=<MeanBackward0>)\n",
            "tensor(6.1889, dtype=torch.float64, grad_fn=<MeanBackward0>)\n",
            "tensor(6.1812, dtype=torch.float64, grad_fn=<MeanBackward0>)\n",
            "tensor(6.1733, dtype=torch.float64, grad_fn=<MeanBackward0>)\n",
            "tensor(6.1643, dtype=torch.float64, grad_fn=<MeanBackward0>)\n",
            "tensor(6.1555, dtype=torch.float64, grad_fn=<MeanBackward0>)\n",
            "tensor(6.1462, dtype=torch.float64, grad_fn=<MeanBackward0>)\n",
            "tensor(6.1306, dtype=torch.float64, grad_fn=<MeanBackward0>)\n",
            "tensor(6.1212, dtype=torch.float64, grad_fn=<MeanBackward0>)\n",
            "tensor(6.1118, dtype=torch.float64, grad_fn=<MeanBackward0>)\n",
            "tensor(6.1013, dtype=torch.float64, grad_fn=<MeanBackward0>)\n",
            "tensor(6.0783, dtype=torch.float64, grad_fn=<MeanBackward0>)\n",
            "tensor(6.0440, dtype=torch.float64, grad_fn=<MeanBackward0>)\n",
            "tensor(6.0270, dtype=torch.float64, grad_fn=<MeanBackward0>)\n",
            "tensor(6.0089, dtype=torch.float64, grad_fn=<MeanBackward0>)\n",
            "tensor(5.9942, dtype=torch.float64, grad_fn=<MeanBackward0>)\n",
            "tensor(5.9798, dtype=torch.float64, grad_fn=<MeanBackward0>)\n",
            "tensor(5.9685, dtype=torch.float64, grad_fn=<MeanBackward0>)\n",
            "tensor(5.9610, dtype=torch.float64, grad_fn=<MeanBackward0>)\n",
            "tensor(5.9517, dtype=torch.float64, grad_fn=<MeanBackward0>)\n",
            "tensor(5.9453, dtype=torch.float64, grad_fn=<MeanBackward0>)\n",
            "tensor(5.9420, dtype=torch.float64, grad_fn=<MeanBackward0>)\n",
            "tensor(5.9512, dtype=torch.float64, grad_fn=<MeanBackward0>)\n",
            "tensor(5.9252, dtype=torch.float64, grad_fn=<MeanBackward0>)\n",
            "tensor(5.9195, dtype=torch.float64, grad_fn=<MeanBackward0>)\n",
            "tensor(5.9160, dtype=torch.float64, grad_fn=<MeanBackward0>)\n",
            "tensor(5.9094, dtype=torch.float64, grad_fn=<MeanBackward0>)\n",
            "tensor(5.9033, dtype=torch.float64, grad_fn=<MeanBackward0>)\n",
            "tensor(5.8981, dtype=torch.float64, grad_fn=<MeanBackward0>)\n",
            "tensor(5.8932, dtype=torch.float64, grad_fn=<MeanBackward0>)\n",
            "tensor(5.8883, dtype=torch.float64, grad_fn=<MeanBackward0>)\n",
            "tensor(5.8847, dtype=torch.float64, grad_fn=<MeanBackward0>)\n",
            "tensor(5.8789, dtype=torch.float64, grad_fn=<MeanBackward0>)\n",
            "tensor(5.8743, dtype=torch.float64, grad_fn=<MeanBackward0>)\n",
            "tensor(5.8701, dtype=torch.float64, grad_fn=<MeanBackward0>)\n",
            "tensor(5.8669, dtype=torch.float64, grad_fn=<MeanBackward0>)\n",
            "tensor(5.8644, dtype=torch.float64, grad_fn=<MeanBackward0>)\n",
            "tensor(5.8584, dtype=torch.float64, grad_fn=<MeanBackward0>)\n",
            "tensor(5.8572, dtype=torch.float64, grad_fn=<MeanBackward0>)\n",
            "tensor(5.8562, dtype=torch.float64, grad_fn=<MeanBackward0>)\n",
            "tensor(5.8460, dtype=torch.float64, grad_fn=<MeanBackward0>)\n",
            "tensor(5.8443, dtype=torch.float64, grad_fn=<MeanBackward0>)\n",
            "tensor(5.8402, dtype=torch.float64, grad_fn=<MeanBackward0>)\n",
            "tensor(5.8359, dtype=torch.float64, grad_fn=<MeanBackward0>)\n",
            "tensor(5.8292, dtype=torch.float64, grad_fn=<MeanBackward0>)\n",
            "tensor(5.8245, dtype=torch.float64, grad_fn=<MeanBackward0>)\n",
            "tensor(5.8193, dtype=torch.float64, grad_fn=<MeanBackward0>)\n",
            "tensor(5.8176, dtype=torch.float64, grad_fn=<MeanBackward0>)\n",
            "tensor(5.8123, dtype=torch.float64, grad_fn=<MeanBackward0>)\n",
            "tensor(5.7993, dtype=torch.float64, grad_fn=<MeanBackward0>)\n",
            "tensor(5.7889, dtype=torch.float64, grad_fn=<MeanBackward0>)\n",
            "tensor(5.7803, dtype=torch.float64, grad_fn=<MeanBackward0>)\n",
            "tensor(5.7729, dtype=torch.float64, grad_fn=<MeanBackward0>)\n",
            "tensor(5.7607, dtype=torch.float64, grad_fn=<MeanBackward0>)\n",
            "tensor(5.7488, dtype=torch.float64, grad_fn=<MeanBackward0>)\n",
            "tensor(5.7377, dtype=torch.float64, grad_fn=<MeanBackward0>)\n",
            "tensor(5.7273, dtype=torch.float64, grad_fn=<MeanBackward0>)\n",
            "tensor(5.7176, dtype=torch.float64, grad_fn=<MeanBackward0>)\n",
            "tensor(5.7087, dtype=torch.float64, grad_fn=<MeanBackward0>)\n",
            "tensor(5.7003, dtype=torch.float64, grad_fn=<MeanBackward0>)\n",
            "tensor(5.6922, dtype=torch.float64, grad_fn=<MeanBackward0>)\n",
            "tensor(5.6841, dtype=torch.float64, grad_fn=<MeanBackward0>)\n",
            "tensor(5.6761, dtype=torch.float64, grad_fn=<MeanBackward0>)\n",
            "tensor(5.6682, dtype=torch.float64, grad_fn=<MeanBackward0>)\n",
            "tensor(5.6616, dtype=torch.float64, grad_fn=<MeanBackward0>)\n",
            "tensor(5.6548, dtype=torch.float64, grad_fn=<MeanBackward0>)\n",
            "tensor(5.6490, dtype=torch.float64, grad_fn=<MeanBackward0>)\n",
            "tensor(5.6452, dtype=torch.float64, grad_fn=<MeanBackward0>)\n",
            "tensor(5.6386, dtype=torch.float64, grad_fn=<MeanBackward0>)\n",
            "tensor(5.6397, dtype=torch.float64, grad_fn=<MeanBackward0>)\n",
            "tensor(5.6294, dtype=torch.float64, grad_fn=<MeanBackward0>)\n",
            "tensor(5.6342, dtype=torch.float64, grad_fn=<MeanBackward0>)\n",
            "tensor(5.6201, dtype=torch.float64, grad_fn=<MeanBackward0>)\n",
            "tensor(5.6149, dtype=torch.float64, grad_fn=<MeanBackward0>)\n",
            "tensor(5.6097, dtype=torch.float64, grad_fn=<MeanBackward0>)\n",
            "tensor(5.6038, dtype=torch.float64, grad_fn=<MeanBackward0>)\n",
            "tensor(5.5970, dtype=torch.float64, grad_fn=<MeanBackward0>)\n",
            "tensor(5.5898, dtype=torch.float64, grad_fn=<MeanBackward0>)\n",
            "tensor(5.5823, dtype=torch.float64, grad_fn=<MeanBackward0>)\n",
            "tensor(5.6280, dtype=torch.float64, grad_fn=<MeanBackward0>)\n",
            "tensor(5.5680, dtype=torch.float64, grad_fn=<MeanBackward0>)\n",
            "tensor(5.5612, dtype=torch.float64, grad_fn=<MeanBackward0>)\n",
            "tensor(5.5549, dtype=torch.float64, grad_fn=<MeanBackward0>)\n",
            "tensor(5.5489, dtype=torch.float64, grad_fn=<MeanBackward0>)\n",
            "tensor(5.5433, dtype=torch.float64, grad_fn=<MeanBackward0>)\n",
            "tensor(5.5381, dtype=torch.float64, grad_fn=<MeanBackward0>)\n",
            "tensor(5.5417, dtype=torch.float64, grad_fn=<MeanBackward0>)\n",
            "tensor(5.5281, dtype=torch.float64, grad_fn=<MeanBackward0>)\n",
            "tensor(5.5230, dtype=torch.float64, grad_fn=<MeanBackward0>)\n",
            "tensor(5.5196, dtype=torch.float64, grad_fn=<MeanBackward0>)\n",
            "tensor(5.5121, dtype=torch.float64, grad_fn=<MeanBackward0>)\n",
            "tensor(5.5066, dtype=torch.float64, grad_fn=<MeanBackward0>)\n",
            "tensor(5.5008, dtype=torch.float64, grad_fn=<MeanBackward0>)\n",
            "tensor(5.4984, dtype=torch.float64, grad_fn=<MeanBackward0>)\n",
            "tensor(5.4890, dtype=torch.float64, grad_fn=<MeanBackward0>)\n",
            "tensor(5.5112, dtype=torch.float64, grad_fn=<MeanBackward0>)\n",
            "tensor(5.4764, dtype=torch.float64, grad_fn=<MeanBackward0>)\n",
            "tensor(5.4893, dtype=torch.float64, grad_fn=<MeanBackward0>)\n",
            "tensor(5.4633, dtype=torch.float64, grad_fn=<MeanBackward0>)\n",
            "tensor(5.4570, dtype=torch.float64, grad_fn=<MeanBackward0>)\n",
            "tensor(5.4555, dtype=torch.float64, grad_fn=<MeanBackward0>)\n",
            "tensor(5.4463, dtype=torch.float64, grad_fn=<MeanBackward0>)\n",
            "tensor(5.4416, dtype=torch.float64, grad_fn=<MeanBackward0>)\n",
            "tensor(5.4414, dtype=torch.float64, grad_fn=<MeanBackward0>)\n",
            "tensor(5.4332, dtype=torch.float64, grad_fn=<MeanBackward0>)\n",
            "tensor(5.4293, dtype=torch.float64, grad_fn=<MeanBackward0>)\n",
            "tensor(5.4258, dtype=torch.float64, grad_fn=<MeanBackward0>)\n",
            "tensor(5.4218, dtype=torch.float64, grad_fn=<MeanBackward0>)\n",
            "tensor(5.4289, dtype=torch.float64, grad_fn=<MeanBackward0>)\n",
            "tensor(5.4148, dtype=torch.float64, grad_fn=<MeanBackward0>)\n",
            "tensor(5.4368, dtype=torch.float64, grad_fn=<MeanBackward0>)\n",
            "tensor(5.4081, dtype=torch.float64, grad_fn=<MeanBackward0>)\n",
            "tensor(5.4047, dtype=torch.float64, grad_fn=<MeanBackward0>)\n",
            "tensor(5.4017, dtype=torch.float64, grad_fn=<MeanBackward0>)\n",
            "tensor(5.3984, dtype=torch.float64, grad_fn=<MeanBackward0>)\n",
            "tensor(5.4426, dtype=torch.float64, grad_fn=<MeanBackward0>)\n",
            "tensor(5.3921, dtype=torch.float64, grad_fn=<MeanBackward0>)\n",
            "tensor(5.3890, dtype=torch.float64, grad_fn=<MeanBackward0>)\n",
            "tensor(5.3855, dtype=torch.float64, grad_fn=<MeanBackward0>)\n",
            "tensor(5.3813, dtype=torch.float64, grad_fn=<MeanBackward0>)\n",
            "tensor(5.3871, dtype=torch.float64, grad_fn=<MeanBackward0>)\n",
            "tensor(5.3748, dtype=torch.float64, grad_fn=<MeanBackward0>)\n",
            "tensor(5.3720, dtype=torch.float64, grad_fn=<MeanBackward0>)\n",
            "tensor(5.3694, dtype=torch.float64, grad_fn=<MeanBackward0>)\n",
            "tensor(5.3662, dtype=torch.float64, grad_fn=<MeanBackward0>)\n",
            "tensor(5.3631, dtype=torch.float64, grad_fn=<MeanBackward0>)\n",
            "tensor(5.3601, dtype=torch.float64, grad_fn=<MeanBackward0>)\n",
            "tensor(5.3572, dtype=torch.float64, grad_fn=<MeanBackward0>)\n",
            "tensor(5.3545, dtype=torch.float64, grad_fn=<MeanBackward0>)\n",
            "tensor(5.3517, dtype=torch.float64, grad_fn=<MeanBackward0>)\n",
            "tensor(5.4450, dtype=torch.float64, grad_fn=<MeanBackward0>)\n",
            "tensor(5.3463, dtype=torch.float64, grad_fn=<MeanBackward0>)\n",
            "tensor(5.3435, dtype=torch.float64, grad_fn=<MeanBackward0>)\n",
            "tensor(5.3418, dtype=torch.float64, grad_fn=<MeanBackward0>)\n",
            "tensor(5.3379, dtype=torch.float64, grad_fn=<MeanBackward0>)\n",
            "tensor(5.3348, dtype=torch.float64, grad_fn=<MeanBackward0>)\n",
            "tensor(5.3314, dtype=torch.float64, grad_fn=<MeanBackward0>)\n",
            "tensor(5.3272, dtype=torch.float64, grad_fn=<MeanBackward0>)\n",
            "tensor(5.3223, dtype=torch.float64, grad_fn=<MeanBackward0>)\n",
            "tensor(5.2973, dtype=torch.float64, grad_fn=<MeanBackward0>)\n",
            "tensor(5.2667, dtype=torch.float64, grad_fn=<MeanBackward0>)\n",
            "tensor(5.2525, dtype=torch.float64, grad_fn=<MeanBackward0>)\n",
            "tensor(5.2406, dtype=torch.float64, grad_fn=<MeanBackward0>)\n",
            "tensor(5.2316, dtype=torch.float64, grad_fn=<MeanBackward0>)\n",
            "tensor(5.2232, dtype=torch.float64, grad_fn=<MeanBackward0>)\n",
            "tensor(5.2165, dtype=torch.float64, grad_fn=<MeanBackward0>)\n",
            "tensor(5.2090, dtype=torch.float64, grad_fn=<MeanBackward0>)\n",
            "tensor(5.2062, dtype=torch.float64, grad_fn=<MeanBackward0>)\n",
            "tensor(5.1970, dtype=torch.float64, grad_fn=<MeanBackward0>)\n",
            "tensor(5.2879, dtype=torch.float64, grad_fn=<MeanBackward0>)\n",
            "tensor(5.1864, dtype=torch.float64, grad_fn=<MeanBackward0>)\n",
            "tensor(5.1814, dtype=torch.float64, grad_fn=<MeanBackward0>)\n",
            "tensor(5.1768, dtype=torch.float64, grad_fn=<MeanBackward0>)\n",
            "tensor(5.1723, dtype=torch.float64, grad_fn=<MeanBackward0>)\n",
            "tensor(5.1681, dtype=torch.float64, grad_fn=<MeanBackward0>)\n",
            "tensor(5.1638, dtype=torch.float64, grad_fn=<MeanBackward0>)\n",
            "tensor(5.1623, dtype=torch.float64, grad_fn=<MeanBackward0>)\n",
            "tensor(5.1561, dtype=torch.float64, grad_fn=<MeanBackward0>)\n",
            "tensor(5.1525, dtype=torch.float64, grad_fn=<MeanBackward0>)\n",
            "tensor(5.1489, dtype=torch.float64, grad_fn=<MeanBackward0>)\n",
            "tensor(5.2017, dtype=torch.float64, grad_fn=<MeanBackward0>)\n",
            "tensor(5.1421, dtype=torch.float64, grad_fn=<MeanBackward0>)\n",
            "tensor(5.1407, dtype=torch.float64, grad_fn=<MeanBackward0>)\n",
            "tensor(5.1358, dtype=torch.float64, grad_fn=<MeanBackward0>)\n",
            "tensor(5.1331, dtype=torch.float64, grad_fn=<MeanBackward0>)\n",
            "tensor(5.1299, dtype=torch.float64, grad_fn=<MeanBackward0>)\n",
            "tensor(5.1271, dtype=torch.float64, grad_fn=<MeanBackward0>)\n",
            "tensor(5.1244, dtype=torch.float64, grad_fn=<MeanBackward0>)\n",
            "tensor(5.1217, dtype=torch.float64, grad_fn=<MeanBackward0>)\n",
            "tensor(5.1191, dtype=torch.float64, grad_fn=<MeanBackward0>)\n",
            "tensor(5.1165, dtype=torch.float64, grad_fn=<MeanBackward0>)\n",
            "tensor(5.1159, dtype=torch.float64, grad_fn=<MeanBackward0>)\n",
            "tensor(5.1115, dtype=torch.float64, grad_fn=<MeanBackward0>)\n",
            "tensor(5.1436, dtype=torch.float64, grad_fn=<MeanBackward0>)\n",
            "tensor(5.1069, dtype=torch.float64, grad_fn=<MeanBackward0>)\n",
            "tensor(5.1046, dtype=torch.float64, grad_fn=<MeanBackward0>)\n",
            "tensor(5.1026, dtype=torch.float64, grad_fn=<MeanBackward0>)\n",
            "tensor(5.1003, dtype=torch.float64, grad_fn=<MeanBackward0>)\n",
            "tensor(5.0989, dtype=torch.float64, grad_fn=<MeanBackward0>)\n",
            "tensor(5.0962, dtype=torch.float64, grad_fn=<MeanBackward0>)\n",
            "tensor(5.0941, dtype=torch.float64, grad_fn=<MeanBackward0>)\n",
            "tensor(5.0921, dtype=torch.float64, grad_fn=<MeanBackward0>)\n",
            "tensor(5.0901, dtype=torch.float64, grad_fn=<MeanBackward0>)\n",
            "tensor(5.1127, dtype=torch.float64, grad_fn=<MeanBackward0>)\n",
            "tensor(5.0862, dtype=torch.float64, grad_fn=<MeanBackward0>)\n",
            "tensor(5.0842, dtype=torch.float64, grad_fn=<MeanBackward0>)\n",
            "tensor(5.0830, dtype=torch.float64, grad_fn=<MeanBackward0>)\n",
            "tensor(5.0803, dtype=torch.float64, grad_fn=<MeanBackward0>)\n",
            "tensor(5.0783, dtype=torch.float64, grad_fn=<MeanBackward0>)\n",
            "tensor(5.0763, dtype=torch.float64, grad_fn=<MeanBackward0>)\n",
            "tensor(5.0741, dtype=torch.float64, grad_fn=<MeanBackward0>)\n",
            "tensor(5.0719, dtype=torch.float64, grad_fn=<MeanBackward0>)\n",
            "tensor(5.1094, dtype=torch.float64, grad_fn=<MeanBackward0>)\n",
            "tensor(5.0843, dtype=torch.float64, grad_fn=<MeanBackward0>)\n",
            "tensor(5.0736, dtype=torch.float64, grad_fn=<MeanBackward0>)\n",
            "tensor(5.0621, dtype=torch.float64, grad_fn=<MeanBackward0>)\n",
            "tensor(5.0733, dtype=torch.float64, grad_fn=<MeanBackward0>)\n",
            "tensor(5.0844, dtype=torch.float64, grad_fn=<MeanBackward0>)\n",
            "tensor(5.0524, dtype=torch.float64, grad_fn=<MeanBackward0>)\n",
            "tensor(5.0559, dtype=torch.float64, grad_fn=<MeanBackward0>)\n",
            "tensor(5.0463, dtype=torch.float64, grad_fn=<MeanBackward0>)\n",
            "tensor(5.0693, dtype=torch.float64, grad_fn=<MeanBackward0>)\n",
            "tensor(5.0949, dtype=torch.float64, grad_fn=<MeanBackward0>)\n",
            "tensor(5.0354, dtype=torch.float64, grad_fn=<MeanBackward0>)\n",
            "tensor(5.0320, dtype=torch.float64, grad_fn=<MeanBackward0>)\n",
            "tensor(5.0267, dtype=torch.float64, grad_fn=<MeanBackward0>)\n",
            "tensor(5.0221, dtype=torch.float64, grad_fn=<MeanBackward0>)\n",
            "tensor(5.0253, dtype=torch.float64, grad_fn=<MeanBackward0>)\n",
            "tensor(5.0151, dtype=torch.float64, grad_fn=<MeanBackward0>)\n",
            "tensor(4.9774, dtype=torch.float64, grad_fn=<MeanBackward0>)\n",
            "tensor(4.9391, dtype=torch.float64, grad_fn=<MeanBackward0>)\n",
            "tensor(4.9128, dtype=torch.float64, grad_fn=<MeanBackward0>)\n",
            "tensor(4.8907, dtype=torch.float64, grad_fn=<MeanBackward0>)\n",
            "tensor(4.8639, dtype=torch.float64, grad_fn=<MeanBackward0>)\n",
            "tensor(4.8398, dtype=torch.float64, grad_fn=<MeanBackward0>)\n",
            "tensor(4.8291, dtype=torch.float64, grad_fn=<MeanBackward0>)\n",
            "tensor(4.8188, dtype=torch.float64, grad_fn=<MeanBackward0>)\n",
            "tensor(4.7988, dtype=torch.float64, grad_fn=<MeanBackward0>)\n",
            "tensor(4.7951, dtype=torch.float64, grad_fn=<MeanBackward0>)\n",
            "tensor(4.7824, dtype=torch.float64, grad_fn=<MeanBackward0>)\n",
            "tensor(4.7854, dtype=torch.float64, grad_fn=<MeanBackward0>)\n",
            "tensor(4.7655, dtype=torch.float64, grad_fn=<MeanBackward0>)\n",
            "tensor(4.7506, dtype=torch.float64, grad_fn=<MeanBackward0>)\n",
            "tensor(4.7444, dtype=torch.float64, grad_fn=<MeanBackward0>)\n",
            "tensor(4.7398, dtype=torch.float64, grad_fn=<MeanBackward0>)\n",
            "tensor(4.7306, dtype=torch.float64, grad_fn=<MeanBackward0>)\n",
            "tensor(4.7179, dtype=torch.float64, grad_fn=<MeanBackward0>)\n",
            "tensor(4.7245, dtype=torch.float64, grad_fn=<MeanBackward0>)\n",
            "tensor(4.6836, dtype=torch.float64, grad_fn=<MeanBackward0>)\n",
            "tensor(4.6661, dtype=torch.float64, grad_fn=<MeanBackward0>)\n",
            "tensor(4.6550, dtype=torch.float64, grad_fn=<MeanBackward0>)\n",
            "tensor(4.6440, dtype=torch.float64, grad_fn=<MeanBackward0>)\n",
            "tensor(4.6345, dtype=torch.float64, grad_fn=<MeanBackward0>)\n",
            "tensor(4.6276, dtype=torch.float64, grad_fn=<MeanBackward0>)\n",
            "tensor(4.6241, dtype=torch.float64, grad_fn=<MeanBackward0>)\n",
            "tensor(4.6203, dtype=torch.float64, grad_fn=<MeanBackward0>)\n",
            "tensor(4.6170, dtype=torch.float64, grad_fn=<MeanBackward0>)\n",
            "tensor(4.6321, dtype=torch.float64, grad_fn=<MeanBackward0>)\n",
            "tensor(4.6335, dtype=torch.float64, grad_fn=<MeanBackward0>)\n",
            "tensor(4.6048, dtype=torch.float64, grad_fn=<MeanBackward0>)\n",
            "tensor(4.6035, dtype=torch.float64, grad_fn=<MeanBackward0>)\n",
            "tensor(4.6007, dtype=torch.float64, grad_fn=<MeanBackward0>)\n",
            "tensor(4.6124, dtype=torch.float64, grad_fn=<MeanBackward0>)\n",
            "tensor(4.6005, dtype=torch.float64, grad_fn=<MeanBackward0>)\n",
            "tensor(4.5993, dtype=torch.float64, grad_fn=<MeanBackward0>)\n",
            "tensor(4.5966, dtype=torch.float64, grad_fn=<MeanBackward0>)\n",
            "tensor(4.5941, dtype=torch.float64, grad_fn=<MeanBackward0>)\n",
            "tensor(4.5911, dtype=torch.float64, grad_fn=<MeanBackward0>)\n",
            "tensor(4.5897, dtype=torch.float64, grad_fn=<MeanBackward0>)\n",
            "tensor(4.5883, dtype=torch.float64, grad_fn=<MeanBackward0>)\n",
            "tensor(4.5857, dtype=torch.float64, grad_fn=<MeanBackward0>)\n",
            "tensor(4.5836, dtype=torch.float64, grad_fn=<MeanBackward0>)\n",
            "tensor(4.5849, dtype=torch.float64, grad_fn=<MeanBackward0>)\n",
            "tensor(4.5846, dtype=torch.float64, grad_fn=<MeanBackward0>)\n",
            "tensor(4.5820, dtype=torch.float64, grad_fn=<MeanBackward0>)\n",
            "tensor(4.5735, dtype=torch.float64, grad_fn=<MeanBackward0>)\n",
            "tensor(4.5713, dtype=torch.float64, grad_fn=<MeanBackward0>)\n",
            "tensor(4.5739, dtype=torch.float64, grad_fn=<MeanBackward0>)\n",
            "tensor(4.5715, dtype=torch.float64, grad_fn=<MeanBackward0>)\n",
            "tensor(4.5727, dtype=torch.float64, grad_fn=<MeanBackward0>)\n",
            "tensor(4.5895, dtype=torch.float64, grad_fn=<MeanBackward0>)\n",
            "tensor(4.5813, dtype=torch.float64, grad_fn=<MeanBackward0>)\n",
            "tensor(4.5636, dtype=torch.float64, grad_fn=<MeanBackward0>)\n",
            "tensor(4.5602, dtype=torch.float64, grad_fn=<MeanBackward0>)\n",
            "tensor(4.5647, dtype=torch.float64, grad_fn=<MeanBackward0>)\n",
            "tensor(4.5650, dtype=torch.float64, grad_fn=<MeanBackward0>)\n",
            "tensor(4.5569, dtype=torch.float64, grad_fn=<MeanBackward0>)\n",
            "tensor(4.5594, dtype=torch.float64, grad_fn=<MeanBackward0>)\n",
            "tensor(4.5530, dtype=torch.float64, grad_fn=<MeanBackward0>)\n",
            "tensor(4.5562, dtype=torch.float64, grad_fn=<MeanBackward0>)\n",
            "tensor(4.5523, dtype=torch.float64, grad_fn=<MeanBackward0>)\n",
            "tensor(4.5515, dtype=torch.float64, grad_fn=<MeanBackward0>)\n",
            "tensor(4.5482, dtype=torch.float64, grad_fn=<MeanBackward0>)\n",
            "tensor(4.5517, dtype=torch.float64, grad_fn=<MeanBackward0>)\n",
            "tensor(4.5458, dtype=torch.float64, grad_fn=<MeanBackward0>)\n",
            "tensor(4.5468, dtype=torch.float64, grad_fn=<MeanBackward0>)\n",
            "tensor(4.5455, dtype=torch.float64, grad_fn=<MeanBackward0>)\n",
            "tensor(4.5434, dtype=torch.float64, grad_fn=<MeanBackward0>)\n",
            "tensor(4.5732, dtype=torch.float64, grad_fn=<MeanBackward0>)\n",
            "tensor(4.5476, dtype=torch.float64, grad_fn=<MeanBackward0>)\n",
            "tensor(4.5399, dtype=torch.float64, grad_fn=<MeanBackward0>)\n",
            "tensor(4.5387, dtype=torch.float64, grad_fn=<MeanBackward0>)\n",
            "tensor(4.5404, dtype=torch.float64, grad_fn=<MeanBackward0>)\n",
            "tensor(4.5366, dtype=torch.float64, grad_fn=<MeanBackward0>)\n",
            "tensor(4.5353, dtype=torch.float64, grad_fn=<MeanBackward0>)\n",
            "tensor(4.5346, dtype=torch.float64, grad_fn=<MeanBackward0>)\n",
            "tensor(4.5364, dtype=torch.float64, grad_fn=<MeanBackward0>)\n",
            "tensor(4.5332, dtype=torch.float64, grad_fn=<MeanBackward0>)\n",
            "tensor(4.5311, dtype=torch.float64, grad_fn=<MeanBackward0>)\n",
            "tensor(4.5734, dtype=torch.float64, grad_fn=<MeanBackward0>)\n",
            "tensor(4.5292, dtype=torch.float64, grad_fn=<MeanBackward0>)\n",
            "tensor(4.5310, dtype=torch.float64, grad_fn=<MeanBackward0>)\n",
            "tensor(4.5272, dtype=torch.float64, grad_fn=<MeanBackward0>)\n",
            "tensor(4.5266, dtype=torch.float64, grad_fn=<MeanBackward0>)\n",
            "tensor(4.5557, dtype=torch.float64, grad_fn=<MeanBackward0>)\n",
            "tensor(4.5259, dtype=torch.float64, grad_fn=<MeanBackward0>)\n",
            "tensor(4.5253, dtype=torch.float64, grad_fn=<MeanBackward0>)\n",
            "tensor(4.5227, dtype=torch.float64, grad_fn=<MeanBackward0>)\n",
            "tensor(4.5241, dtype=torch.float64, grad_fn=<MeanBackward0>)\n",
            "tensor(4.5235, dtype=torch.float64, grad_fn=<MeanBackward0>)\n",
            "tensor(4.5221, dtype=torch.float64, grad_fn=<MeanBackward0>)\n",
            "tensor(4.5202, dtype=torch.float64, grad_fn=<MeanBackward0>)\n"
          ],
          "name": "stdout"
        }
      ]
    },
    {
      "cell_type": "code",
      "metadata": {
        "id": "ex1h2lh0l6Nj",
        "outputId": "23bcd18f-f46a-4eb4-de96-b7ccb899fe17",
        "colab": {
          "base_uri": "https://localhost:8080/"
        }
      },
      "source": [
        "pr = bostonPrice_net.forward(X_train[460:506].float())\n",
        "pr.size()"
      ],
      "execution_count": 30,
      "outputs": [
        {
          "output_type": "execute_result",
          "data": {
            "text/plain": [
              "torch.Size([46, 1])"
            ]
          },
          "metadata": {
            "tags": []
          },
          "execution_count": 30
        }
      ]
    },
    {
      "cell_type": "code",
      "metadata": {
        "id": "Mt0Y7suHpCw7"
      },
      "source": [
        "y_train[460:506];"
      ],
      "execution_count": 31,
      "outputs": []
    },
    {
      "cell_type": "code",
      "metadata": {
        "id": "4UwbJpTLnHd9",
        "outputId": "adf1d14a-30ba-4bd7-ac33-3ca3bb879062",
        "colab": {
          "base_uri": "https://localhost:8080/"
        }
      },
      "source": [
        "loss(y_train[460:506],pr)\n",
        "#pr - y_test"
      ],
      "execution_count": 32,
      "outputs": [
        {
          "output_type": "execute_result",
          "data": {
            "text/plain": [
              "tensor(5.3291, dtype=torch.float64, grad_fn=<MeanBackward0>)"
            ]
          },
          "metadata": {
            "tags": []
          },
          "execution_count": 32
        }
      ]
    },
    {
      "cell_type": "code",
      "metadata": {
        "id": "tP5PjFXUy7pU",
        "outputId": "01ed35b7-57c1-44c4-84bd-3fb8276217db",
        "colab": {
          "base_uri": "https://localhost:8080/",
          "height": 296
        }
      },
      "source": [
        "plt.plot([row[0] for row in loss_history][1000:], [row[1] for row in loss_history][1000:])\n",
        "plt.title(label='Loss function')\n",
        "plt.xlabel('Epoch_index')\n",
        "plt.ylabel('Error');\n",
        "plt.show()"
      ],
      "execution_count": 46,
      "outputs": [
        {
          "output_type": "display_data",
          "data": {
            "image/png": "[encoded data removed]",
            "text/plain": [
              "<Figure size 432x288 with 1 Axes>"
            ]
          },
          "metadata": {
            "tags": [],
            "needs_background": "light"
          }
        }
      ]
    },
    {
      "cell_type": "code",
      "metadata": {
        "id": "1LZgSTH3qnRr",
        "outputId": "cd9d5139-2e23-4458-f95b-9bf80a846c15",
        "colab": {
          "base_uri": "https://localhost:8080/",
          "height": 282
        }
      },
      "source": [
        "x = torch.zeros(y_train.size(0),1)\n",
        "for i in range(y_train.size(0)):\n",
        "    x[i] = i\n",
        "\n",
        "plt.plot(x.numpy(), y_train.detach().numpy())"
      ],
      "execution_count": 36,
      "outputs": [
        {
          "output_type": "execute_result",
          "data": {
            "text/plain": [
              "[<matplotlib.lines.Line2D at 0x7fcecbce60f0>]"
            ]
          },
          "metadata": {
            "tags": []
          },
          "execution_count": 36
        },
        {
          "output_type": "display_data",
          "data": {
            "image/png": "[encoded data removed]",
            "text/plain": [
              "<Figure size 432x288 with 1 Axes>"
            ]
          },
          "metadata": {
            "tags": [],
            "needs_background": "light"
          }
        }
      ]
    },
    {
      "cell_type": "code",
      "metadata": {
        "id": "IQ-KSq5hwriN",
        "outputId": "ef744ba0-02a4-4fc7-976a-a81a296dc71d",
        "colab": {
          "base_uri": "https://localhost:8080/",
          "height": 282
        }
      },
      "source": [
        "plt.plot(x.numpy(), X_train[:,12].detach().numpy(),'r')"
      ],
      "execution_count": 37,
      "outputs": [
        {
          "output_type": "execute_result",
          "data": {
            "text/plain": [
              "[<matplotlib.lines.Line2D at 0x7fcec2d77898>]"
            ]
          },
          "metadata": {
            "tags": []
          },
          "execution_count": 37
        },
        {
          "output_type": "display_data",
          "data": {
            "image/png": "[encoded data removed]",
            "text/plain": [
              "<Figure size 432x288 with 1 Axes>"
            ]
          },
          "metadata": {
            "tags": [],
            "needs_background": "light"
          }
        }
      ]
    }
  ]
}